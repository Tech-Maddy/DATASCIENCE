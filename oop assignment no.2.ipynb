{
 "cells": [
  {
   "cell_type": "code",
   "execution_count": 1,
   "id": "c3823110-395f-4c60-9112-429879694bca",
   "metadata": {},
   "outputs": [],
   "source": [
    "# Q1. Explain Class and Object with respect to Object-Oriented Programming. Give a suitable example."
   ]
  },
  {
   "cell_type": "code",
   "execution_count": null,
   "id": "4bd9e0c8-1e2e-412d-8490-accf21526ca8",
   "metadata": {},
   "outputs": [],
   "source": [
    "# class:\n",
    "# A class is a blueprint or template for creating objects. It defines a set of attributes (data) and methods (functions) that the created objects will have. Classes encapsulate data and functions that operate on the data into a single unit, promoting code reusability and modularity.\n",
    "\n",
    "# Object:\n",
    "# An object is an instance of a class. It is created from the class blueprint and represents an individual entity with its own state and behavior. Each object has its own set of attribute values and can use the methods defined in its class."
   ]
  },
  {
   "cell_type": "code",
   "execution_count": 2,
   "id": "ffe32d40-1e6a-47b3-987a-6193b67f48a4",
   "metadata": {},
   "outputs": [
    {
     "name": "stdout",
     "output_type": "stream",
     "text": [
      "2020 Toyota Corolla\n",
      "2019 Honda Civic\n"
     ]
    }
   ],
   "source": [
    "# Define the Car class\n",
    "class Car:\n",
    "    def __init__(self, make, model, year):\n",
    "        self.make = make      # Attribute for car's make\n",
    "        self.model = model    # Attribute for car's model\n",
    "        self.year = year      # Attribute for car's year\n",
    "\n",
    "    def display_info(self):\n",
    "        \"\"\"Method to display car's information\"\"\"\n",
    "        print(f\"{self.year} {self.make} {self.model}\")\n",
    "\n",
    "# Create objects of the Car class\n",
    "car1 = Car(\"Toyota\", \"Corolla\", 2020)\n",
    "car2 = Car(\"Honda\", \"Civic\", 2019)\n",
    "\n",
    "# Access attributes and methods of the objects\n",
    "car1.display_info()  # Output: 2020 Toyota Corolla\n",
    "car2.display_info()  # Output: 2019 Honda Civic\n"
   ]
  },
  {
   "cell_type": "code",
   "execution_count": 3,
   "id": "7d49c106-4cfa-41a8-8b89-e6d4e7d6377a",
   "metadata": {},
   "outputs": [],
   "source": [
    "# Q2. Name the four pillars of OOPs."
   ]
  },
  {
   "cell_type": "code",
   "execution_count": null,
   "id": "6cde3212-04b6-4d16-8ff7-161f42f2073a",
   "metadata": {},
   "outputs": [],
   "source": [
    "# 1.Encapsulation\n",
    "# 2.Inheritance\n",
    "# 3.Polymorphism\n",
    "# 4.Abstraction"
   ]
  },
  {
   "cell_type": "code",
   "execution_count": null,
   "id": "785c3198-d07d-4090-9349-4b1bcd195e9c",
   "metadata": {},
   "outputs": [],
   "source": [
    "# Q3. Explain why the __init__() function is used. Give a suitable example."
   ]
  },
  {
   "cell_type": "code",
   "execution_count": null,
   "id": "0d042ed8-3fd7-4ed7-96c0-af0621de17b4",
   "metadata": {},
   "outputs": [],
   "source": [
    "# The __init__() function in Python is a special method that is automatically called when an instance (object) of a class is created. It is known as the initializer or constructor method. The purpose of the __init__() method is to initialize the newly created object's attributes with initial values. This method allows you to set up the initial state of an object by assigning values to its instance variables."
   ]
  },
  {
   "cell_type": "code",
   "execution_count": 4,
   "id": "fd451df8-b6e4-46a1-84ba-758c661469ec",
   "metadata": {},
   "outputs": [
    {
     "name": "stdout",
     "output_type": "stream",
     "text": [
      "Name: Alice, Age: 30\n",
      "Name: Bob, Age: 25\n"
     ]
    }
   ],
   "source": [
    "class Person:\n",
    "    def __init__(self, name, age):\n",
    "        self.name = name  # Initialize the instance variable name\n",
    "        self.age = age    # Initialize the instance variable age\n",
    "\n",
    "    def display_info(self):\n",
    "        \"\"\"Method to display person's information\"\"\"\n",
    "        print(f\"Name: {self.name}, Age: {self.age}\")\n",
    "\n",
    "# Creating objects of the Person class\n",
    "person1 = Person(\"Alice\", 30)\n",
    "person2 = Person(\"Bob\", 25)\n",
    "\n",
    "# Accessing attributes and methods of the objects\n",
    "person1.display_info()  # Output: Name: Alice, Age: 30\n",
    "person2.display_info()  # Output: Name: Bob, Age: 25\n"
   ]
  },
  {
   "cell_type": "code",
   "execution_count": 5,
   "id": "e6af776b-e62f-4251-8559-6d4754b19ccb",
   "metadata": {},
   "outputs": [],
   "source": [
    "# Q4. Why self is used in OOPs?"
   ]
  },
  {
   "cell_type": "code",
   "execution_count": null,
   "id": "6da137ca-cab9-4b0d-a061-02ba57b7172b",
   "metadata": {},
   "outputs": [],
   "source": [
    "# In Object-Oriented Programming (OOP), self is a reference to the instance of the class. It is used within class methods to refer to the instance that is calling the method. self is essential for accessing instance variables and other methods within the class."
   ]
  },
  {
   "cell_type": "code",
   "execution_count": null,
   "id": "e8faa3c6-1b81-4a7c-a78f-00e4db063cca",
   "metadata": {},
   "outputs": [],
   "source": [
    "# Q5. What is inheritance? Give an example for each type of inheritance."
   ]
  },
  {
   "cell_type": "code",
   "execution_count": 6,
   "id": "ed57cf95-a504-450a-9773-8d26f24f264e",
   "metadata": {},
   "outputs": [],
   "source": [
    "# Inheritance in Object-Oriented Programming (OOP) is a mechanism that allows one class (the child or derived class) to inherit attributes and methods from another class (the parent or base class). This promotes code reuse and establishes a relationship between the classes."
   ]
  },
  {
   "cell_type": "code",
   "execution_count": 7,
   "id": "177a0d6e-a569-4e07-969d-a81ca5938d42",
   "metadata": {},
   "outputs": [
    {
     "name": "stdout",
     "output_type": "stream",
     "text": [
      "Animal speaks\n",
      "Dog barks\n"
     ]
    }
   ],
   "source": [
    "# 1)Single Inheritance:\n",
    "class Animal:\n",
    "    def speak(self):\n",
    "        print(\"Animal speaks\")\n",
    "\n",
    "class Dog(Animal):\n",
    "    def bark(self):\n",
    "        print(\"Dog barks\")\n",
    "\n",
    "# Example usage\n",
    "dog = Dog()\n",
    "dog.speak()  # Output: Animal speaks\n",
    "dog.bark()   # Output: Dog barks\n",
    "\n"
   ]
  },
  {
   "cell_type": "code",
   "execution_count": 8,
   "id": "eddc60b0-6fdd-4bb1-9ef0-6fec8cc13af9",
   "metadata": {},
   "outputs": [
    {
     "name": "stdout",
     "output_type": "stream",
     "text": [
      "Engine starts\n",
      "Wheels roll\n",
      "Car drives\n"
     ]
    }
   ],
   "source": [
    "# 2)Multiple Inheritance:\n",
    "class Engine:\n",
    "    def start_engine(self):\n",
    "        print(\"Engine starts\")\n",
    "\n",
    "class Wheels:\n",
    "    def roll(self):\n",
    "        print(\"Wheels roll\")\n",
    "\n",
    "class Car(Engine, Wheels):\n",
    "    def drive(self):\n",
    "        print(\"Car drives\")\n",
    "\n",
    "# Example usage\n",
    "car = Car()\n",
    "car.start_engine()  # Output: Engine starts\n",
    "car.roll()          # Output: Wheels roll\n",
    "car.drive()         # Output: Car drives\n"
   ]
  },
  {
   "cell_type": "code",
   "execution_count": 10,
   "id": "3d98d934-f548-450c-9b31-85587c07dd34",
   "metadata": {},
   "outputs": [
    {
     "name": "stdout",
     "output_type": "stream",
     "text": [
      "Animal speaks\n",
      "Mammal walks\n",
      "Dog barks\n"
     ]
    }
   ],
   "source": [
    "# 3)Multilevel Inheritance:\n",
    "class Animal:\n",
    "    def speak(self):\n",
    "        print(\"Animal speaks\")\n",
    "\n",
    "class Mammal(Animal):\n",
    "    def walk(self):\n",
    "        print(\"Mammal walks\")\n",
    "\n",
    "class Dog(Mammal):\n",
    "    def bark(self):\n",
    "        print(\"Dog barks\")\n",
    "\n",
    "# Example usage\n",
    "dog = Dog()\n",
    "dog.speak()  # Output: Animal speaks\n",
    "dog.walk()   # Output: Mammal walks\n",
    "dog.bark()   # Output: Dog barks\n"
   ]
  },
  {
   "cell_type": "code",
   "execution_count": 11,
   "id": "9c13b10b-bfdc-4fdb-bc99-5b289dceaf6c",
   "metadata": {},
   "outputs": [
    {
     "name": "stdout",
     "output_type": "stream",
     "text": [
      "Animal speaks\n",
      "Dog barks\n",
      "Animal speaks\n",
      "Cat meows\n"
     ]
    }
   ],
   "source": [
    "# 4)Hierarchical Inheritance:\n",
    "class Animal:\n",
    "    def speak(self):\n",
    "        print(\"Animal speaks\")\n",
    "\n",
    "class Dog(Animal):\n",
    "    def bark(self):\n",
    "        print(\"Dog barks\")\n",
    "\n",
    "class Cat(Animal):\n",
    "    def meow(self):\n",
    "        print(\"Cat meows\")\n",
    "\n",
    "# Example usage\n",
    "dog = Dog()\n",
    "dog.speak()  # Output: Animal speaks\n",
    "dog.bark()   # Output: Dog barks\n",
    "\n",
    "cat = Cat()\n",
    "cat.speak()  # Output: Animal speaks\n",
    "cat.meow()   # Output: Cat meows\n"
   ]
  },
  {
   "cell_type": "code",
   "execution_count": 12,
   "id": "7fc3f951-aa33-4da6-9cc0-efe88b953588",
   "metadata": {},
   "outputs": [],
   "source": [
    "# 5)Hybrid Inheritance (Combination of Hierarchical and Multiple Inheritance)"
   ]
  },
  {
   "cell_type": "code",
   "execution_count": 13,
   "id": "0a9d6586-ca5e-42db-b170-05594cb61029",
   "metadata": {},
   "outputs": [
    {
     "name": "stdout",
     "output_type": "stream",
     "text": [
      "Engine starts\n",
      "Vehicle moves\n",
      "Car drives\n",
      "Engine starts\n",
      "Vehicle moves\n",
      "Truck hauls\n"
     ]
    }
   ],
   "source": [
    "class Engine:\n",
    "    def start_engine(self):\n",
    "        print(\"Engine starts\")\n",
    "\n",
    "class Vehicle:\n",
    "    def move(self):\n",
    "        print(\"Vehicle moves\")\n",
    "\n",
    "class Car(Vehicle, Engine):\n",
    "    def drive(self):\n",
    "        print(\"Car drives\")\n",
    "\n",
    "class Truck(Vehicle, Engine):\n",
    "    def haul(self):\n",
    "        print(\"Truck hauls\")\n",
    "\n",
    "# Example usage\n",
    "car = Car()\n",
    "car.start_engine()  # Output: Engine starts\n",
    "car.move()          # Output: Vehicle moves\n",
    "car.drive()         # Output: Car drives\n",
    "\n",
    "truck = Truck()\n",
    "truck.start_engine()  # Output: Engine starts\n",
    "truck.move()          # Output: Vehicle moves\n",
    "truck.haul()          # Output: Truck hauls\n"
   ]
  },
  {
   "cell_type": "code",
   "execution_count": null,
   "id": "777874b6-5281-4ac5-be98-e48aea22b26b",
   "metadata": {},
   "outputs": [],
   "source": []
  }
 ],
 "metadata": {
  "kernelspec": {
   "display_name": "Python 3 (ipykernel)",
   "language": "python",
   "name": "python3"
  },
  "language_info": {
   "codemirror_mode": {
    "name": "ipython",
    "version": 3
   },
   "file_extension": ".py",
   "mimetype": "text/x-python",
   "name": "python",
   "nbconvert_exporter": "python",
   "pygments_lexer": "ipython3",
   "version": "3.10.8"
  }
 },
 "nbformat": 4,
 "nbformat_minor": 5
}
