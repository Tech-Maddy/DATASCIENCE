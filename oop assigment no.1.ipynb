{
 "cells": [
  {
   "cell_type": "code",
   "execution_count": 1,
   "id": "a326dc23-76b6-485f-ac33-9270e6159b35",
   "metadata": {},
   "outputs": [],
   "source": [
    "# Q1, Create a vehicle class with an init method having instance variables as name_of_vehicle, max_speed\n",
    "# and average_of_vehicle."
   ]
  },
  {
   "cell_type": "code",
   "execution_count": 2,
   "id": "61649bb9-5d26-4762-9052-c9f3190dfade",
   "metadata": {},
   "outputs": [
    {
     "name": "stdout",
     "output_type": "stream",
     "text": [
      "Name of Vehicle: Toyota Corolla\n",
      "Max Speed: 180 km/h\n",
      "Average: 15 km/l\n"
     ]
    }
   ],
   "source": [
    "class Vehicle:\n",
    "    def __init__(self, name_of_vehicle, max_speed, average_of_vehicle):\n",
    "        self.name_of_vehicle = name_of_vehicle\n",
    "        self.max_speed = max_speed\n",
    "        self.average_of_vehicle = average_of_vehicle\n",
    "\n",
    "    def display_info(self):\n",
    "        \"\"\"Display the information about the vehicle.\"\"\"\n",
    "        print(f\"Name of Vehicle: {self.name_of_vehicle}\")\n",
    "        print(f\"Max Speed: {self.max_speed} km/h\")\n",
    "        print(f\"Average: {self.average_of_vehicle} km/l\")\n",
    "\n",
    "# Example usage\n",
    "car = Vehicle(\"Toyota Corolla\", 180, 15)\n",
    "car.display_info()\n"
   ]
  },
  {
   "cell_type": "code",
   "execution_count": 3,
   "id": "aa28d55c-c81d-452b-8f56-f5b8805514c6",
   "metadata": {},
   "outputs": [],
   "source": [
    "# Q2. Create a child class car from the vehicle class created in Que 1, which will inherit the vehicle class.\n",
    "# Create a method named seating_capacity which takes capacity as an argument and returns the name of\n",
    "# the vehicle and its seating capacity."
   ]
  },
  {
   "cell_type": "code",
   "execution_count": 4,
   "id": "79354c11-ff91-47ba-a1b7-aaedc5317c29",
   "metadata": {},
   "outputs": [
    {
     "name": "stdout",
     "output_type": "stream",
     "text": [
      "Name of Vehicle: Toyota Corolla\n",
      "Max Speed: 180 km/h\n",
      "Average: 15 km/l\n",
      "The Toyota Corolla has a seating capacity of 5 people.\n"
     ]
    }
   ],
   "source": [
    "class Vehicle:\n",
    "    def __init__(self, name_of_vehicle, max_speed, average_of_vehicle):\n",
    "        self.name_of_vehicle = name_of_vehicle\n",
    "        self.max_speed = max_speed\n",
    "        self.average_of_vehicle = average_of_vehicle\n",
    "\n",
    "    def display_info(self):\n",
    "        \"\"\"Display the information about the vehicle.\"\"\"\n",
    "        print(f\"Name of Vehicle: {self.name_of_vehicle}\")\n",
    "        print(f\"Max Speed: {self.max_speed} km/h\")\n",
    "        print(f\"Average: {self.average_of_vehicle} km/l\")\n",
    "\n",
    "class Car(Vehicle):\n",
    "    def seating_capacity(self, capacity):\n",
    "        \"\"\"Return the name of the vehicle and its seating capacity.\"\"\"\n",
    "        return f\"The {self.name_of_vehicle} has a seating capacity of {capacity} people.\"\n",
    "\n",
    "# Example usage\n",
    "car = Car(\"Toyota Corolla\", 180, 15)\n",
    "car.display_info()\n",
    "print(car.seating_capacity(5))\n"
   ]
  },
  {
   "cell_type": "code",
   "execution_count": 5,
   "id": "97737b63-61a3-4dbc-bdc6-e13a81b13e96",
   "metadata": {},
   "outputs": [],
   "source": [
    "# Q3. What is multiple inheritance? Write a python code to demonstrate multiple inheritance."
   ]
  },
  {
   "cell_type": "code",
   "execution_count": 6,
   "id": "05861e56-69c7-47af-a2ab-59b707ead420",
   "metadata": {},
   "outputs": [
    {
     "name": "stdout",
     "output_type": "stream",
     "text": [
      "Name of Car: Ferrari\n",
      "Engine Type: V8\n",
      "Number of Wheels: 4\n"
     ]
    }
   ],
   "source": [
    "# Multiple inheritance in Python is a feature where a class can inherit attributes and methods from more than one parent class. This allows a subclass to combine functionality from multiple parent classes.\n",
    "\n",
    "# Define the first parent class\n",
    "class Engine:\n",
    "    def __init__(self, engine_type):\n",
    "        self.engine_type = engine_type\n",
    "\n",
    "    def display_engine(self):\n",
    "        print(f\"Engine Type: {self.engine_type}\")\n",
    "\n",
    "# Define the second parent class\n",
    "class Wheels:\n",
    "    def __init__(self, wheel_count):\n",
    "        self.wheel_count = wheel_count\n",
    "\n",
    "    def display_wheels(self):\n",
    "        print(f\"Number of Wheels: {self.wheel_count}\")\n",
    "\n",
    "# Define the child class that inherits from both parent classes\n",
    "class Car(Engine, Wheels):\n",
    "    def __init__(self, engine_type, wheel_count, name_of_car):\n",
    "        # Initialize parent classes\n",
    "        Engine.__init__(self, engine_type)\n",
    "        Wheels.__init__(self, wheel_count)\n",
    "        self.name_of_car = name_of_car\n",
    "\n",
    "    def display_info(self):\n",
    "        print(f\"Name of Car: {self.name_of_car}\")\n",
    "        self.display_engine()\n",
    "        self.display_wheels()\n",
    "\n",
    "# Example usage\n",
    "car = Car(\"V8\", 4, \"Ferrari\")\n",
    "car.display_info()\n"
   ]
  },
  {
   "cell_type": "code",
   "execution_count": 12,
   "id": "ea18df38-d3b8-4d9b-9401-e71e5c793c95",
   "metadata": {},
   "outputs": [],
   "source": [
    "# Q4. What are getter and setter in python? Create a class and create a getter and a setter method in this\n",
    "# class."
   ]
  },
  {
   "cell_type": "code",
   "execution_count": 13,
   "id": "a7cd9efe-0d2b-439d-a666-18436f508625",
   "metadata": {},
   "outputs": [],
   "source": [
    "# Getters and setters in Python are methods used to access and modify the private attributes of a class. They provide a controlled way to interact with the data encapsulated in a class.\n",
    "\n",
    "# Getter: A method that retrieves the value of a private attribute.\n",
    "# Setter: A method that sets or updates the value of a private attribute."
   ]
  },
  {
   "cell_type": "code",
   "execution_count": 14,
   "id": "63baadba-ac37-463e-a1a9-4018b4b21b1e",
   "metadata": {},
   "outputs": [
    {
     "name": "stdout",
     "output_type": "stream",
     "text": [
      "Alice\n",
      "30\n",
      "Bob\n",
      "35\n",
      "Name cannot be empty\n",
      "Age cannot be negative\n"
     ]
    }
   ],
   "source": [
    "class Person:\n",
    "    def __init__(self, name, age):\n",
    "        self._name = name  # Private attribute\n",
    "        self._age = age    # Private attribute\n",
    "\n",
    "    @property\n",
    "    def name(self):\n",
    "        \"\"\"Getter method for name\"\"\"\n",
    "        return self._name\n",
    "\n",
    "    @name.setter\n",
    "    def name(self, value):\n",
    "        \"\"\"Setter method for name\"\"\"\n",
    "        if not value:\n",
    "            raise ValueError(\"Name cannot be empty\")\n",
    "        self._name = value\n",
    "\n",
    "    @property\n",
    "    def age(self):\n",
    "        \"\"\"Getter method for age\"\"\"\n",
    "        return self._age\n",
    "\n",
    "    @age.setter\n",
    "    def age(self, value):\n",
    "        \"\"\"Setter method for age\"\"\"\n",
    "        if value < 0:\n",
    "            raise ValueError(\"Age cannot be negative\")\n",
    "        self._age = value\n",
    "\n",
    "# Example usage\n",
    "person = Person(\"Alice\", 30)\n",
    "\n",
    "# Accessing attributes using getter methods\n",
    "print(person.name)  # Output: Alice\n",
    "print(person.age)   # Output: 30\n",
    "\n",
    "# Modifying attributes using setter methods\n",
    "person.name = \"Bob\"\n",
    "person.age = 35\n",
    "\n",
    "print(person.name)  # Output: Bob\n",
    "print(person.age)   # Output: 35\n",
    "\n",
    "# Attempting to set invalid values\n",
    "try:\n",
    "    person.name = \"\"  # This will raise an exception\n",
    "except ValueError as e:\n",
    "    print(e)  # Output: Name cannot be empty\n",
    "\n",
    "try:\n",
    "    person.age = -1  # This will raise an exception\n",
    "except ValueError as e:\n",
    "    print(e)  # Output: Age cannot be negative\n"
   ]
  },
  {
   "cell_type": "code",
   "execution_count": 15,
   "id": "48f8110a-fde2-4b69-bbee-a8bc28f1f7b4",
   "metadata": {},
   "outputs": [],
   "source": [
    "# Q5.What is method overriding in python? Write a python code to demonstrate method overriding."
   ]
  },
  {
   "cell_type": "code",
   "execution_count": 16,
   "id": "43fec4a5-6011-4863-933c-fcf99e90b8e0",
   "metadata": {},
   "outputs": [],
   "source": [
    "# Method overriding in Python is a feature in object-oriented programming that allows a subclass to provide a specific implementation of a method that is already defined in its superclass. This means the subclass can alter or extend the behavior of the method inherited from the superclass."
   ]
  },
  {
   "cell_type": "code",
   "execution_count": 11,
   "id": "f3141661-64d5-48fb-9d8c-c2440e8a2332",
   "metadata": {},
   "outputs": [
    {
     "name": "stdout",
     "output_type": "stream",
     "text": [
      "Animal makes a sound\n",
      "Dog barks\n",
      "Cat meows\n"
     ]
    }
   ],
   "source": [
    "class Animal:\n",
    "    def speak(self):\n",
    "        \"\"\"Superclass method\"\"\"\n",
    "        print(\"Animal makes a sound\")\n",
    "\n",
    "class Dog(Animal):\n",
    "    def speak(self):\n",
    "        \"\"\"Subclass method overriding the superclass method\"\"\"\n",
    "        print(\"Dog barks\")\n",
    "\n",
    "class Cat(Animal):\n",
    "    def speak(self):\n",
    "        \"\"\"Subclass method overriding the superclass method\"\"\"\n",
    "        print(\"Cat meows\")\n",
    "\n",
    "# Example usage\n",
    "animal = Animal()\n",
    "dog = Dog()\n",
    "cat = Cat()\n",
    "\n",
    "# Calls the speak() method from the Animal class\n",
    "animal.speak()  # Output: Animal makes a sound\n",
    "\n",
    "# Calls the overridden speak() method in Dog class\n",
    "dog.speak()     # Output: Dog barks\n",
    "\n",
    "# Calls the overridden speak() method in Cat class\n",
    "cat.speak()     # Output: Cat meows\n"
   ]
  },
  {
   "cell_type": "code",
   "execution_count": null,
   "id": "5231d551-b880-4d70-ae0d-31cf0aae46ed",
   "metadata": {},
   "outputs": [],
   "source": []
  }
 ],
 "metadata": {
  "kernelspec": {
   "display_name": "Python 3 (ipykernel)",
   "language": "python",
   "name": "python3"
  },
  "language_info": {
   "codemirror_mode": {
    "name": "ipython",
    "version": 3
   },
   "file_extension": ".py",
   "mimetype": "text/x-python",
   "name": "python",
   "nbconvert_exporter": "python",
   "pygments_lexer": "ipython3",
   "version": "3.10.8"
  }
 },
 "nbformat": 4,
 "nbformat_minor": 5
}
