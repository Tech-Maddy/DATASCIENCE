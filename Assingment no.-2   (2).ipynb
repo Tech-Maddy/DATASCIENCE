{
 "cells": [
  {
   "cell_type": "code",
   "execution_count": null,
   "id": "1e81f937-eb33-4e69-8c3a-c60aee8ce203",
   "metadata": {},
   "outputs": [],
   "source": [
    "#ASSINGMENT NO. 2\n",
    "\n",
    "#ANSWERS\n",
    "\n",
    "Q1. IN PYTHON WECAN COMMENT BY USING \"#\" SYMBOL OR BY USING TRIPLE COTES(\"\"\")\n",
    "BY USING # SYMBOL WE CAN COMMENT ONLY THE SINGLE LINE & BY USING \"\"\" WE CAN COMMENT \n",
    "\n",
    "\n",
    "Q2.1) VARIABLES IN  PYTHON ARE JUST LIKE A CONTAINER WHICH CAN STORED THE VALUES WHEN WE ASSIGN TO THEM.\n",
    "\n",
    "\n",
    " 2)WE CAN BE DECALARE THE VARIABLES WITH SOME DECALERATION RULES.\n",
    "\n",
    "Eg: A=10,NAME=\"MOHSIN\" \n",
    " \n",
    "\n",
    "Q3. BY USING TYPE CASTING  WE CAN CHANGE THE TYPE OF THE DTATA.\n",
    "Eg: age=32\n",
    "str(age)\n",
    "\n",
    "print(age)\n",
    "\n",
    "o/p= '32'\n",
    "\n",
    "Q4.OPEN THE COMMAND LINE & TYPE IN THE WORD PYTHON OR PYTHON 3, IF YOU HAVE BOTH VERSINOS.\n",
    "\n",
    " \n",
    "\n"
   ]
  },
  {
   "cell_type": "code",
   "execution_count": 3,
   "id": "e85791f8-f0b2-4ee4-96cb-9ba56308bdf8",
   "metadata": {},
   "outputs": [
    {
     "name": "stdout",
     "output_type": "stream",
     "text": [
      "[2, 3]\n"
     ]
    }
   ],
   "source": [
    "#Q5.\n",
    "my_list=[1,2,3,4,5]\n",
    "\n",
    "print(my_list[1:3])"
   ]
  },
  {
   "cell_type": "raw",
   "id": "45de7899-40cc-4917-b99c-2c583eadc997",
   "metadata": {},
   "source": [
    "Q.6 COMPLEX NO. IS THE NO. WHICH HAS REAL PART+ IMAGINARY PART.\n",
    "Eg= 2+3i\n",
    "in python we  can represent it as like a math but we have replace i by j only.\n",
    "Eg: 3+2j #it's comlex no. in the python.\n",
    "\n",
    "Q.7 THE CORRECT WAY TO  DECALE THE VARIABLE FIRST WE FLLOW THE VARIABLE DECLARAION RULES & THEN WE CAN DECALRE THE THE VARIABLES BY ASSING THE VALUE TO IT.\n",
    "\n",
    "age= 25\n"
   ]
  },
  {
   "cell_type": "code",
   "execution_count": null,
   "id": "9126d544-a709-4227-884c-5396bbdefdbd",
   "metadata": {},
   "outputs": [],
   "source": [
    "#Q.8\n",
    "\n",
    "value=9"
   ]
  }
 ],
 "metadata": {
  "kernelspec": {
   "display_name": "Python 3 (ipykernel)",
   "language": "python",
   "name": "python3"
  },
  "language_info": {
   "codemirror_mode": {
    "name": "ipython",
    "version": 3
   },
   "file_extension": ".py",
   "mimetype": "text/x-python",
   "name": "python",
   "nbconvert_exporter": "python",
   "pygments_lexer": "ipython3",
   "version": "3.10.8"
  }
 },
 "nbformat": 4,
 "nbformat_minor": 5
}
