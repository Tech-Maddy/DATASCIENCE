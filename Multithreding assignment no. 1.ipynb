{
 "cells": [
  {
   "cell_type": "code",
   "execution_count": 1,
   "id": "02595fe0-f841-4e77-8280-4d55dc8491bd",
   "metadata": {},
   "outputs": [],
   "source": [
    "# Q.1 What is multithreading in python? why is it used? Name the module used to handle threads in python"
   ]
  },
  {
   "cell_type": "code",
   "execution_count": 3,
   "id": "0c495932-10b2-4a03-b553-1af0a95b6604",
   "metadata": {},
   "outputs": [],
   "source": [
    "# Multithreading in Python is a programming technique that allows multiple threads (smaller units of a process) to run concurrently within a single process. Each thread can execute its own sequence of instructions while sharing the same memory space and resources, enabling more efficient use of CPU time and improving the performance of I/O-bound applications.\n",
    "# Multithreading is used for several reasons:\n",
    "\n",
    "# Concurrency: It allows for concurrent execution of tasks, making applications more responsive. For example, in GUI applications, multithreading can keep the interface responsive while performing long-running tasks in the background.\n",
    "\n",
    "# I/O-bound Operations: In applications that perform a lot of I/O operations (like reading/writing files, making network requests, etc.), multithreading can help maximize resource usage. While one thread waits for I/O operations to complete, other threads can continue executing.\n",
    "\n",
    "# Resource Sharing: Threads share the same memory space, making it easier to share data between them compared to separate processes, which have their own memory space.\n",
    "\n",
    "# Simplified Program Structure: Multithreading can simplify certain problems, allowing developers to break tasks into smaller, manageable pieces that can be executed simultaneously."
   ]
  },
  {
   "cell_type": "code",
   "execution_count": 4,
   "id": "f16164e0-a826-4170-9f54-193179d9e303",
   "metadata": {},
   "outputs": [],
   "source": [
    "# Q.2 Why threading module used? write the use of the following functions\n",
    "# 1. activeCount()\n",
    "#  2.currentThread()\n",
    "#  3.enumerate()"
   ]
  },
  {
   "cell_type": "code",
   "execution_count": 5,
   "id": "35bfa826-2de3-47ff-a1d2-b853fb08c0b3",
   "metadata": {},
   "outputs": [],
   "source": [
    "# The threading module in Python is used for creating and managing threads. Threads allow concurrent execution of code, which can improve performance in programs that require multitasking, such as I/O-bound or high-latency operations.\n",
    "\n",
    "# activeCount():\n",
    "# Usage: This function returns the number of Thread objects currently alive. It gives you a way to check how many threads are still running at a given point in your program.\n",
    "\n",
    "# currentThread():\n",
    "# Usage: This function returns the current Thread object, which represents the thread from which it is called. It can be useful for identifying or debugging the thread that is currently executing.\n",
    "\n",
    "# enumerate():\n",
    "# Usage: This function returns a list of all Thread objects currently alive. It can be useful for iterating over the currently active threads and performing actions or checks on them."
   ]
  },
  {
   "cell_type": "code",
   "execution_count": 6,
   "id": "d9ef7259-85b0-4e03-ab4a-22459bb988bd",
   "metadata": {},
   "outputs": [],
   "source": [
    "# Q3. Explain the following functions\n",
    "# 1. run\n",
    "# 2.start\n",
    "# 3.join\n",
    "# 4.isAlive"
   ]
  },
  {
   "cell_type": "code",
   "execution_count": 7,
   "id": "7395a576-1f2e-4714-8e8a-edd04b94c5e6",
   "metadata": {},
   "outputs": [],
   "source": [
    "# run():\n",
    "\n",
    "# Usage: This method is overridden in a subclass of the Thread class to define the behavior of the thread. When you create a thread, you can define the code that should run when the thread is started by implementing this method. If run() is called directly, it will execute in the current thread instead of a new thread."
   ]
  },
  {
   "cell_type": "code",
   "execution_count": 8,
   "id": "739047d8-2ca3-4f69-a595-1fd660ca93c2",
   "metadata": {},
   "outputs": [],
   "source": [
    "# start():\n",
    "\n",
    "# Usage: This method starts the thread's activity. It invokes the run() method in a separate thread and allows the thread to run concurrently with the main program. Once you call start(), the thread begins its life cycle, moving to the \"runnable\" state."
   ]
  },
  {
   "cell_type": "code",
   "execution_count": 9,
   "id": "495231d4-e2f6-43d9-802f-d5b4d5d67898",
   "metadata": {},
   "outputs": [],
   "source": [
    "# Join():\n",
    "\n",
    "# Usage: This method blocks the calling thread (usually the main thread) until the thread whose join() method is called is terminated. It is useful when you want to wait for a thread to complete before proceeding with the rest of the program."
   ]
  },
  {
   "cell_type": "code",
   "execution_count": 10,
   "id": "4f0b64df-2f8e-4c12-ac7a-f9ad363bd6e5",
   "metadata": {},
   "outputs": [],
   "source": [
    "# is_alive():\n",
    "\n",
    "# Usage: This method returns True if the thread is currently alive (i.e., it has been started and has not yet completed). It is useful for checking the status of a thread."
   ]
  },
  {
   "cell_type": "code",
   "execution_count": 11,
   "id": "080060fe-d53b-4b91-8d3d-64258b4d9ac2",
   "metadata": {},
   "outputs": [],
   "source": [
    "# Q.4. Write a python program to create two threads. Thread one must print the list of squares and thread\n",
    "# two must print the list of cubes"
   ]
  },
  {
   "cell_type": "code",
   "execution_count": 12,
   "id": "5f46f731-4f90-4daa-a774-d37c72c582a5",
   "metadata": {},
   "outputs": [
    {
     "name": "stdout",
     "output_type": "stream",
     "text": [
      "Squares: [0, 1, 4, 9, 16, 25, 36, 49, 64, 81]\n",
      "Cubes: [0, 1, 8, 27, 64, 125, 216, 343, 512, 729]\n",
      "Both threads have completed.\n"
     ]
    }
   ],
   "source": [
    "import threading\n",
    "\n",
    "def print_squares(n):\n",
    "    squares = [i**2 for i in range(n)]\n",
    "    print(\"Squares:\", squares)\n",
    "\n",
    "def print_cubes(n):\n",
    "    cubes = [i**3 for i in range(n)]\n",
    "    print(\"Cubes:\", cubes)\n",
    "\n",
    "if __name__ == \"__main__\":\n",
    "    n = 10  # You can change this value to print more squares/cubes\n",
    "\n",
    "    # Create two threads\n",
    "    thread_squares = threading.Thread(target=print_squares, args=(n,))\n",
    "    thread_cubes = threading.Thread(target=print_cubes, args=(n,))\n",
    "\n",
    "    # Start the threads\n",
    "    thread_squares.start()\n",
    "    thread_cubes.start()\n",
    "\n",
    "    # Wait for both threads to complete\n",
    "    thread_squares.join()\n",
    "    thread_cubes.join()\n",
    "\n",
    "    print(\"Both threads have completed.\")\n"
   ]
  },
  {
   "cell_type": "code",
   "execution_count": 13,
   "id": "94834f6e-dfee-4de5-a909-d66e92e5911a",
   "metadata": {},
   "outputs": [],
   "source": [
    "# Q.5. State advantages and disadvantages of multithreading"
   ]
  },
  {
   "cell_type": "code",
   "execution_count": 15,
   "id": "13293bfb-9ee1-49dd-8386-40d35569c4f5",
   "metadata": {},
   "outputs": [],
   "source": [
    "# Advantages of Multithreading:\n",
    "# Improved Performance\n",
    "# Responsiveness\n",
    "# Resource Sharing\n",
    "# Parallelism\n",
    "# Simplified Program Structure\n",
    "\n",
    "# Disadvantages of Multithreading:\n",
    "# Complexity\n",
    "# Debugging Challenges\n",
    "# Overhead\n",
    "# Synchronization Issues\n",
    "# Limited by GIL (Global Interpreter Lock)"
   ]
  },
  {
   "cell_type": "code",
   "execution_count": 16,
   "id": "45f2e88d-f9ec-4d4c-a814-d630078ee029",
   "metadata": {},
   "outputs": [],
   "source": [
    "# Q.6. Explain deadlocks and race conditions."
   ]
  },
  {
   "cell_type": "code",
   "execution_count": 17,
   "id": "c95768d5-174c-441b-a214-407b6c7604f5",
   "metadata": {},
   "outputs": [],
   "source": [
    "# Deadlocks\n",
    "# Deadlocks occur when two or more threads are unable to proceed because each is waiting for the other to release a resource. This results in a situation where none of the threads can proceed, leading to a complete halt in program execution."
   ]
  },
  {
   "cell_type": "code",
   "execution_count": 18,
   "id": "2234998e-3e23-4c27-a372-a231ba05d0dd",
   "metadata": {},
   "outputs": [],
   "source": [
    "# Race Conditions\n",
    "# Race conditions occur when two or more threads access shared data and try to change it simultaneously. The outcome of the operations depends on the non-deterministic order in which the threads execute, which can lead to unpredictable and incorrect results.\n",
    "\n"
   ]
  },
  {
   "cell_type": "code",
   "execution_count": null,
   "id": "6cc9c6ad-3904-430b-bc79-6d10b59afa6f",
   "metadata": {},
   "outputs": [],
   "source": []
  }
 ],
 "metadata": {
  "kernelspec": {
   "display_name": "Python 3 (ipykernel)",
   "language": "python",
   "name": "python3"
  },
  "language_info": {
   "codemirror_mode": {
    "name": "ipython",
    "version": 3
   },
   "file_extension": ".py",
   "mimetype": "text/x-python",
   "name": "python",
   "nbconvert_exporter": "python",
   "pygments_lexer": "ipython3",
   "version": "3.10.8"
  }
 },
 "nbformat": 4,
 "nbformat_minor": 5
}
