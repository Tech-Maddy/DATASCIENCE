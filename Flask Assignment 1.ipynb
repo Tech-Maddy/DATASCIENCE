{
 "cells": [
  {
   "cell_type": "code",
   "execution_count": 1,
   "id": "1fe85e2c-734c-4068-9b5a-1691502e5032",
   "metadata": {},
   "outputs": [],
   "source": [
    "# Q1. What is Flask Framework? What are the advantages of Flask Framework?"
   ]
  },
  {
   "cell_type": "code",
   "execution_count": null,
   "id": "bdf03a45-5fd7-4e1c-aefb-68cf3b39531b",
   "metadata": {},
   "outputs": [],
   "source": []
  },
  {
   "cell_type": "code",
   "execution_count": 2,
   "id": "d9c4b7cd-2192-4bd3-801b-ebe3bfe3894a",
   "metadata": {},
   "outputs": [],
   "source": [
    "# Flask Framework:\n",
    "# Flask is a lightweight and micro web framework written in Python. It is classified as a microframework because it does not require particular tools or libraries. It has no database abstraction layer, form validation, or other components where pre-existing third-party libraries provide common functions."
   ]
  },
  {
   "cell_type": "code",
   "execution_count": 3,
   "id": "d71e8bdd-df3c-4580-b888-b391fb7d51ad",
   "metadata": {},
   "outputs": [],
   "source": [
    "# Advantages of Flask Framework:\n",
    "\n",
    "# Lightweight and Modular: Flask is minimalistic and modular, making it easy to build and expand with various extensions.\n",
    "# Flexible: Flask gives developers the freedom to structure their applications the way they want, with fewer restrictions on the code layout and organization.\n",
    "# Easy to Learn: Flask’s simple and straightforward nature makes it an excellent choice for beginners.\n",
    "# Extensible: Flask can be easily extended with a wide range of plugins for adding various functionalities like form handling, authentication, etc.\n",
    "# Great Documentation: Flask has thorough and well-structured documentation, which is helpful for developers.\n",
    "# Large Community: Flask has a large and active community, ensuring that developers can find support, tutorials, and libraries to help with their projects"
   ]
  },
  {
   "cell_type": "code",
   "execution_count": 4,
   "id": "6fc7bf32-907d-497c-8a42-1f0acd903477",
   "metadata": {},
   "outputs": [],
   "source": [
    "# Q2. Create a simple Flask application to display ‘Hello World!!’. Attach the screenshot of the output in Jupyter Notebook."
   ]
  },
  {
   "cell_type": "code",
   "execution_count": null,
   "id": "c8bef4da-100b-47d7-9b24-5a07937abe73",
   "metadata": {},
   "outputs": [],
   "source": [
    "from flask import Flask\n",
    "\n",
    "app = Flask(__name__)\n",
    "\n",
    "@app.route('/')\n",
    "def hello_world():\n",
    "    return 'Hello World!!'\n",
    "\n",
    "if __name__ == '__main__':\n",
    "    app.run(debug=True)\n"
   ]
  },
  {
   "cell_type": "code",
   "execution_count": 5,
   "id": "ba8f55a9-7df4-4079-8e8e-41db67544ead",
   "metadata": {},
   "outputs": [],
   "source": [
    "# Q3. What is App routing in Flask? Why do we use app routes?"
   ]
  },
  {
   "cell_type": "code",
   "execution_count": 6,
   "id": "a251f4dc-c53f-4930-b43f-cd81693b01df",
   "metadata": {},
   "outputs": [],
   "source": [
    "# App Routing in Flask:\n",
    "# App routing refers to the mapping of URLs to functions in Flask. It helps in defining how the application should respond to different web addresses (URLs). In Flask, app routes are created using the @app.route() decorator."
   ]
  },
  {
   "cell_type": "code",
   "execution_count": 7,
   "id": "da570dd9-fc30-4b2e-b027-02e9faae1f65",
   "metadata": {},
   "outputs": [],
   "source": [
    "# Why do we use app routes?\n",
    "\n",
    "# URL Mapping: It helps in mapping URLs to specific functions that handle requests to those URLs.\n",
    "# Organization: It makes it easier to organize and manage the different parts of an application.\n",
    "# RESTful APIs: App routing is essential for creating RESTful APIs, allowing different endpoints to perform different operations."
   ]
  },
  {
   "cell_type": "code",
   "execution_count": 8,
   "id": "405d73a8-ba1f-4e10-ba4a-a45a3a67c85b",
   "metadata": {},
   "outputs": [],
   "source": [
    "# Q4. Create a “/welcome” route to display the welcome message “Welcome to ABC Corporation” and a “/” route to show the following details:"
   ]
  },
  {
   "cell_type": "code",
   "execution_count": null,
   "id": "87357b66-b67b-42aa-b565-38de20aa8fac",
   "metadata": {},
   "outputs": [],
   "source": [
    "from flask import Flask\n",
    "\n",
    "app = Flask(__name__)\n",
    "\n",
    "@app.route('/')\n",
    "def company_info():\n",
    "    return '''\n",
    "    <h1>Company Name: ABC Corporation</h1>\n",
    "    <p>Location: India</p>\n",
    "    <p>Contact Detail: 999-999-9999</p>\n",
    "    '''\n",
    "\n",
    "@app.route('/welcome')\n",
    "def welcome():\n",
    "    return '<h1>Welcome to ABC Corporation</h1>'\n",
    "\n",
    "if __name__ == '__main__':\n",
    "    app.run(debug=True)\n"
   ]
  },
  {
   "cell_type": "code",
   "execution_count": 1,
   "id": "b27325bd-5cf3-4cb1-b5b8-74c0263635d0",
   "metadata": {},
   "outputs": [],
   "source": [
    "# Q5. What function is used in Flask for URL Building? Write a Python code to demonstrate the working of the url_for() function."
   ]
  },
  {
   "cell_type": "code",
   "execution_count": 2,
   "id": "6e21d077-9c39-452d-94f0-1174a9a3b300",
   "metadata": {},
   "outputs": [],
   "source": [
    "# The url_for() function is used in Flask to build URLs for specific functions. It allows for more dynamic and maintainable URL creation."
   ]
  },
  {
   "cell_type": "code",
   "execution_count": null,
   "id": "56dbf194-3441-49b7-a37d-3e9ca7b3b49f",
   "metadata": {},
   "outputs": [],
   "source": [
    "from flask import Flask, url_for\n",
    "\n",
    "app = Flask(__name__)\n",
    "\n",
    "@app.route('/')\n",
    "def index():\n",
    "    return 'This is the index page.'\n",
    "\n",
    "@app.route('/welcome')\n",
    "def welcome():\n",
    "    return 'Welcome to ABC Corporation'\n",
    "\n",
    "@app.route('/user/<username>')\n",
    "def user_profile(username):\n",
    "    return f'User: {username}'\n",
    "\n",
    "@app.route('/build_url')\n",
    "def build_url():\n",
    "    # Build URL for the 'welcome' function\n",
    "    welcome_url = url_for('welcome')\n",
    "    # Build URL for the 'user_profile' function with a username parameter\n",
    "    user_profile_url = url_for('user_profile', username='JohnDoe')\n",
    "    return f'Welcome URL: {welcome_url} <br> User Profile URL: {user_profile_url}'\n",
    "\n",
    "if __name__ == '__main__':\n",
    "    app.run(debug=True)\n"
   ]
  }
 ],
 "metadata": {
  "kernelspec": {
   "display_name": "Python 3 (ipykernel)",
   "language": "python",
   "name": "python3"
  },
  "language_info": {
   "codemirror_mode": {
    "name": "ipython",
    "version": 3
   },
   "file_extension": ".py",
   "mimetype": "text/x-python",
   "name": "python",
   "nbconvert_exporter": "python",
   "pygments_lexer": "ipython3",
   "version": "3.10.8"
  }
 },
 "nbformat": 4,
 "nbformat_minor": 5
}
