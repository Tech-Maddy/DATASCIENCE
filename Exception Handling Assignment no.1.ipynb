{
 "cells": [
  {
   "cell_type": "code",
   "execution_count": 2,
   "id": "6fd3ff5d-1a76-47e3-ba42-b2af2d04c15e",
   "metadata": {},
   "outputs": [],
   "source": [
    "# Q1. What is an Exception in python? Write the difference between Exceptions and Syntax errors"
   ]
  },
  {
   "cell_type": "code",
   "execution_count": 3,
   "id": "45030372-68ad-4cb1-aa1c-23f0119ab995",
   "metadata": {},
   "outputs": [],
   "source": [
    "# An exception in Python is an event that occurs during the execution of a program that disrupts the normal flow of instructions. When an exception occurs, the normal flow of the program is interrupted, and Python generates an error message. Exceptions are typically caused by errors such as division by zero, file not found, or invalid input."
   ]
  },
  {
   "cell_type": "code",
   "execution_count": null,
   "id": "effc61d0-d1c3-443a-92a0-a5e77047196d",
   "metadata": {},
   "outputs": [],
   "source": [
    "# Q2. What happens when an exception is not handled? Explain with an example"
   ]
  },
  {
   "cell_type": "code",
   "execution_count": 1,
   "id": "ceb53d76-ddf9-476b-b2d4-b77ae56968fb",
   "metadata": {},
   "outputs": [
    {
     "ename": "ZeroDivisionError",
     "evalue": "division by zero",
     "output_type": "error",
     "traceback": [
      "\u001b[0;31m---------------------------------------------------------------------------\u001b[0m",
      "\u001b[0;31mZeroDivisionError\u001b[0m                         Traceback (most recent call last)",
      "Cell \u001b[0;32mIn[1], line 7\u001b[0m\n\u001b[1;32m      4\u001b[0m \u001b[38;5;28;01mdef\u001b[39;00m \u001b[38;5;21mdivide\u001b[39m(a, b):\n\u001b[1;32m      5\u001b[0m     \u001b[38;5;28;01mreturn\u001b[39;00m a \u001b[38;5;241m/\u001b[39m b\n\u001b[0;32m----> 7\u001b[0m result \u001b[38;5;241m=\u001b[39m \u001b[43mdivide\u001b[49m\u001b[43m(\u001b[49m\u001b[38;5;241;43m10\u001b[39;49m\u001b[43m,\u001b[49m\u001b[43m \u001b[49m\u001b[38;5;241;43m0\u001b[39;49m\u001b[43m)\u001b[49m\n\u001b[1;32m      8\u001b[0m \u001b[38;5;28mprint\u001b[39m(\u001b[38;5;124m\"\u001b[39m\u001b[38;5;124mResult:\u001b[39m\u001b[38;5;124m\"\u001b[39m, result)\n",
      "Cell \u001b[0;32mIn[1], line 5\u001b[0m, in \u001b[0;36mdivide\u001b[0;34m(a, b)\u001b[0m\n\u001b[1;32m      4\u001b[0m \u001b[38;5;28;01mdef\u001b[39;00m \u001b[38;5;21mdivide\u001b[39m(a, b):\n\u001b[0;32m----> 5\u001b[0m     \u001b[38;5;28;01mreturn\u001b[39;00m \u001b[43ma\u001b[49m\u001b[43m \u001b[49m\u001b[38;5;241;43m/\u001b[39;49m\u001b[43m \u001b[49m\u001b[43mb\u001b[49m\n",
      "\u001b[0;31mZeroDivisionError\u001b[0m: division by zero"
     ]
    }
   ],
   "source": [
    "# When an exception is not handled in Python, the program will terminate and display an error message (traceback) indicating the type of exception, where it occurred, and the sequence of function calls that led to the exception. This process is known as \"unwinding the stack.\"\n",
    "\n",
    "# Here's an example to illustrate this:\n",
    "def divide(a, b):\n",
    "    return a / b\n",
    "\n",
    "result = divide(10, 0)\n",
    "print(\"Result:\", result)\n"
   ]
  },
  {
   "cell_type": "code",
   "execution_count": 4,
   "id": "57658360-008e-440c-bf86-bfd5bf616e7d",
   "metadata": {},
   "outputs": [],
   "source": [
    "# Q3. Which Python statements are used to catch and handle exceptions? Explain with an example"
   ]
  },
  {
   "cell_type": "code",
   "execution_count": 5,
   "id": "9ca461c4-ab66-4857-bb1b-4eb0b75eb650",
   "metadata": {},
   "outputs": [
    {
     "name": "stdout",
     "output_type": "stream",
     "text": [
      "Example 1:\n",
      "Error: Division by zero is not allowed.\n",
      "Execution of the divide function is complete.\n",
      "Result: None\n",
      "\n",
      "Example 2:\n",
      "Error: Both arguments must be numbers.\n",
      "Execution of the divide function is complete.\n",
      "Result: None\n",
      "\n",
      "Example 3:\n",
      "Division successful.\n",
      "Execution of the divide function is complete.\n",
      "Result: 5.0\n"
     ]
    }
   ],
   "source": [
    "# In Python, the try, except, else, and finally statements are used to catch and handle exceptions. Here's a breakdown of how these statements work:\n",
    "\n",
    "# try: The block of code that might raise an exception is placed inside the try block.\n",
    "# except: The block of code that handles the exception is placed inside the except block. You can specify the type of exception you want to catch.\n",
    "# else: (Optional) If no exception is raised in the try block, the code inside the else block is executed.\n",
    "# finally: (Optional) The code inside the finally block is executed regardless of whether an exception was raised or not. This is typically used for cleanup actions, such as closing files or releasing resources.\n",
    "# Here's an example that demonstrates these statements:\n",
    "def divide(a, b):\n",
    "    try:\n",
    "        result = a / b\n",
    "    except ZeroDivisionError:\n",
    "        print(\"Error: Division by zero is not allowed.\")\n",
    "        return None\n",
    "    except TypeError:\n",
    "        print(\"Error: Both arguments must be numbers.\")\n",
    "        return None\n",
    "    else:\n",
    "        print(\"Division successful.\")\n",
    "        return result\n",
    "    finally:\n",
    "        print(\"Execution of the divide function is complete.\")\n",
    "\n",
    "# Example 1: Division by zero\n",
    "print(\"Example 1:\")\n",
    "result1 = divide(10, 0)\n",
    "print(\"Result:\", result1)\n",
    "\n",
    "# Example 2: Invalid argument types\n",
    "print(\"\\nExample 2:\")\n",
    "result2 = divide(10, \"2\")\n",
    "print(\"Result:\", result2)\n",
    "\n",
    "# Example 3: Successful division\n",
    "print(\"\\nExample 3:\")\n",
    "result3 = divide(10, 2)\n",
    "print(\"Result:\", result3)\n"
   ]
  },
  {
   "cell_type": "code",
   "execution_count": 6,
   "id": "6cd73954-22c0-401a-99cd-c2ce56b69f42",
   "metadata": {},
   "outputs": [],
   "source": [
    "# Q4. Explain with an example:\n",
    "\n",
    "#  a.try and else#\n",
    "#  b.finally\n",
    "#  c.raise"
   ]
  },
  {
   "cell_type": "code",
   "execution_count": 7,
   "id": "12b6916c-0136-4eec-94eb-69270eeaf996",
   "metadata": {},
   "outputs": [],
   "source": [
    "# Explanation of the Statements\n",
    "# try: This block contains the code that might raise an exception.\n",
    "# else: This block is executed if no exceptions are raised in the try block.\n",
    "# finally: This block is always executed, regardless of whether an exception was raised or not. It's typically used for cleanup actions.\n",
    "# raise: This statement is used to manually raise an exception."
   ]
  },
  {
   "cell_type": "code",
   "execution_count": 8,
   "id": "a6d07788-281c-4c3e-a84e-6ceb61c12fd6",
   "metadata": {},
   "outputs": [
    {
     "name": "stdout",
     "output_type": "stream",
     "text": [
      "Example 1:\n",
      "Error: The file 'nonexistent_file.txt' was not found.\n",
      "File was never opened; no need to close.\n",
      "\n",
      "Example 2:\n",
      "File opened successfully.\n",
      "File content read successfully.\n",
      "No exceptions were raised. Processing file content.\n",
      "File closed successfully.\n",
      "\n",
      "Example 3:\n",
      "File opened successfully.\n",
      "File content read successfully.\n",
      "No exceptions were raised. Processing file content.\n",
      "File closed successfully.\n"
     ]
    },
    {
     "ename": "ValueError",
     "evalue": "The file is empty.",
     "output_type": "error",
     "traceback": [
      "\u001b[0;31m---------------------------------------------------------------------------\u001b[0m",
      "\u001b[0;31mValueError\u001b[0m                                Traceback (most recent call last)",
      "Cell \u001b[0;32mIn[8], line 43\u001b[0m\n\u001b[1;32m     41\u001b[0m \u001b[38;5;28;01mwith\u001b[39;00m \u001b[38;5;28mopen\u001b[39m(\u001b[38;5;124m\"\u001b[39m\u001b[38;5;124mempty_file.txt\u001b[39m\u001b[38;5;124m\"\u001b[39m, \u001b[38;5;124m\"\u001b[39m\u001b[38;5;124mw\u001b[39m\u001b[38;5;124m\"\u001b[39m) \u001b[38;5;28;01mas\u001b[39;00m f:\n\u001b[1;32m     42\u001b[0m     \u001b[38;5;28;01mpass\u001b[39;00m\n\u001b[0;32m---> 43\u001b[0m \u001b[43mprocess_file\u001b[49m\u001b[43m(\u001b[49m\u001b[38;5;124;43m\"\u001b[39;49m\u001b[38;5;124;43mempty_file.txt\u001b[39;49m\u001b[38;5;124;43m\"\u001b[39;49m\u001b[43m)\u001b[49m\n",
      "Cell \u001b[0;32mIn[8], line 19\u001b[0m, in \u001b[0;36mprocess_file\u001b[0;34m(filename)\u001b[0m\n\u001b[1;32m     17\u001b[0m     \u001b[38;5;28mprint\u001b[39m(\u001b[38;5;124m\"\u001b[39m\u001b[38;5;124mNo exceptions were raised. Processing file content.\u001b[39m\u001b[38;5;124m\"\u001b[39m)\n\u001b[1;32m     18\u001b[0m     \u001b[38;5;28;01mif\u001b[39;00m content \u001b[38;5;241m==\u001b[39m \u001b[38;5;124m\"\u001b[39m\u001b[38;5;124m\"\u001b[39m:\n\u001b[0;32m---> 19\u001b[0m         \u001b[38;5;28;01mraise\u001b[39;00m \u001b[38;5;167;01mValueError\u001b[39;00m(\u001b[38;5;124m\"\u001b[39m\u001b[38;5;124mThe file is empty.\u001b[39m\u001b[38;5;124m\"\u001b[39m)\n\u001b[1;32m     21\u001b[0m \u001b[38;5;28;01mfinally\u001b[39;00m:\n\u001b[1;32m     22\u001b[0m     \u001b[38;5;66;03m# This block is always executed, regardless of an exception\u001b[39;00m\n\u001b[1;32m     23\u001b[0m     \u001b[38;5;28;01mtry\u001b[39;00m:\n",
      "\u001b[0;31mValueError\u001b[0m: The file is empty."
     ]
    }
   ],
   "source": [
    "def process_file(filename):\n",
    "    try:\n",
    "        # Try to open the file\n",
    "        file = open(filename, 'r')\n",
    "        print(\"File opened successfully.\")\n",
    "        \n",
    "        # Read the content of the file\n",
    "        content = file.read()\n",
    "        print(\"File content read successfully.\")\n",
    "        \n",
    "    except FileNotFoundError:\n",
    "        # Handle the case where the file does not exist\n",
    "        print(f\"Error: The file '{filename}' was not found.\")\n",
    "    \n",
    "    else:\n",
    "        # This block is executed if no exception was raised in the try block\n",
    "        print(\"No exceptions were raised. Processing file content.\")\n",
    "        if content == \"\":\n",
    "            raise ValueError(\"The file is empty.\")\n",
    "    \n",
    "    finally:\n",
    "        # This block is always executed, regardless of an exception\n",
    "        try:\n",
    "            file.close()\n",
    "            print(\"File closed successfully.\")\n",
    "        except UnboundLocalError:\n",
    "            print(\"File was never opened; no need to close.\")\n",
    "\n",
    "# Example 1: File does not exist\n",
    "print(\"Example 1:\")\n",
    "process_file(\"nonexistent_file.txt\")\n",
    "\n",
    "print(\"\\nExample 2:\")\n",
    "# Example 2: File exists and is not empty\n",
    "with open(\"example.txt\", \"w\") as f:\n",
    "    f.write(\"Hello, world!\")\n",
    "process_file(\"example.txt\")\n",
    "\n",
    "print(\"\\nExample 3:\")\n",
    "# Example 3: File exists and is empty\n",
    "with open(\"empty_file.txt\", \"w\") as f:\n",
    "    pass\n",
    "process_file(\"empty_file.txt\")\n"
   ]
  },
  {
   "cell_type": "code",
   "execution_count": 9,
   "id": "3bfb31e5-ce7b-4fde-baff-dff5f06c60b8",
   "metadata": {},
   "outputs": [],
   "source": [
    "# Q5. What are Custom Exceptions in python? Why do we need Custom Exceptions? Explain with an example"
   ]
  },
  {
   "cell_type": "code",
   "execution_count": 10,
   "id": "f9455142-0af0-4c66-b2db-34e8c4342eda",
   "metadata": {},
   "outputs": [],
   "source": [
    "# Custom exceptions in Python are user-defined exceptions that allow you to create specific error types tailored to your application's needs. They are useful when the built-in exceptions are not sufficient to describe a particular error condition in your program."
   ]
  },
  {
   "cell_type": "code",
   "execution_count": 11,
   "id": "0865b35e-1144-4542-9627-12a2a3bc08eb",
   "metadata": {},
   "outputs": [
    {
     "name": "stdout",
     "output_type": "stream",
     "text": [
      "Current balance: 100\n",
      "Insufficient funds available. Current balance: 100, Withdrawal amount: 150\n",
      "Withdrawal successful. Current balance: 50\n"
     ]
    }
   ],
   "source": [
    "class InsufficientFundsError(Exception):\n",
    "    \"\"\"Exception raised for errors in the input salary.\n",
    "\n",
    "    Attributes:\n",
    "        balance -- balance of the account\n",
    "        amount -- amount attempted to withdraw\n",
    "        message -- explanation of the error\n",
    "    \"\"\"\n",
    "\n",
    "    def __init__(self, balance, amount, message=\"Insufficient funds available.\"):\n",
    "        self.balance = balance\n",
    "        self.amount = amount\n",
    "        self.message = message\n",
    "        super().__init__(self.message)\n",
    "\n",
    "    def __str__(self):\n",
    "        return f'{self.message} Current balance: {self.balance}, Withdrawal amount: {self.amount}'\n",
    "\n",
    "class BankAccount:\n",
    "    def __init__(self, initial_balance):\n",
    "        self.balance = initial_balance\n",
    "\n",
    "    def withdraw(self, amount):\n",
    "        if amount > self.balance:\n",
    "            raise InsufficientFundsError(self.balance, amount)\n",
    "        self.balance -= amount\n",
    "        return self.balance\n",
    "\n",
    "# Example usage\n",
    "try:\n",
    "    account = BankAccount(100)\n",
    "    print(\"Current balance:\", account.balance)\n",
    "    account.withdraw(150)\n",
    "except InsufficientFundsError as e:\n",
    "    print(e)\n",
    "\n",
    "# Successful withdrawal\n",
    "try:\n",
    "    account.withdraw(50)\n",
    "    print(\"Withdrawal successful. Current balance:\", account.balance)\n",
    "except InsufficientFundsError as e:\n",
    "    print(e)\n"
   ]
  },
  {
   "cell_type": "code",
   "execution_count": 12,
   "id": "9b154b2a-06c9-48ab-bc65-1651e5a81714",
   "metadata": {},
   "outputs": [],
   "source": [
    "# Q6. Create custom exception class. Use this class to handle an exception."
   ]
  },
  {
   "cell_type": "code",
   "execution_count": 13,
   "id": "0c500e26-f885-46cd-8774-63cbd37a6166",
   "metadata": {},
   "outputs": [],
   "source": [
    "class NegativeDepositError(Exception):\n",
    "    \"\"\"Exception raised for errors in the deposit amount.\n",
    "\n",
    "    Attributes:\n",
    "        amount -- deposit amount that caused the error\n",
    "        message -- explanation of the error\n",
    "    \"\"\"\n",
    "\n",
    "    def __init__(self, amount, message=\"Deposit amount cannot be negative.\"):\n",
    "        self.amount = amount\n",
    "        self.message = message\n",
    "        super().__init__(self.message)\n",
    "\n",
    "    def __str__(self):\n",
    "        return f'{self.message} Amount: {self.amount}'\n"
   ]
  },
  {
   "cell_type": "code",
   "execution_count": null,
   "id": "68d7c367-92e4-4116-92b9-69023bf1b836",
   "metadata": {},
   "outputs": [],
   "source": []
  }
 ],
 "metadata": {
  "kernelspec": {
   "display_name": "Python 3 (ipykernel)",
   "language": "python",
   "name": "python3"
  },
  "language_info": {
   "codemirror_mode": {
    "name": "ipython",
    "version": 3
   },
   "file_extension": ".py",
   "mimetype": "text/x-python",
   "name": "python",
   "nbconvert_exporter": "python",
   "pygments_lexer": "ipython3",
   "version": "3.10.8"
  }
 },
 "nbformat": 4,
 "nbformat_minor": 5
}
