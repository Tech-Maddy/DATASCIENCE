{
 "cells": [
  {
   "cell_type": "code",
   "execution_count": 1,
   "id": "d4fd937a-da29-4dec-a6a8-8bb5062526a1",
   "metadata": {},
   "outputs": [],
   "source": [
    "# Q1. What is a database? Differentiate between SQL and NoSQL databases."
   ]
  },
  {
   "cell_type": "code",
   "execution_count": 2,
   "id": "fded4b6d-8a74-4f83-a6c6-5e01a7ec0cec",
   "metadata": {},
   "outputs": [],
   "source": [
    "# A database is a structured collection of data that is stored and accessed electronically. Databases are designed to manage and organize data efficiently, allowing for easy retrieval, insertion, update, and deletion of data."
   ]
  },
  {
   "cell_type": "code",
   "execution_count": 3,
   "id": "3dc5cb6e-d7a0-4bb1-b8d2-e0993323ffc3",
   "metadata": {},
   "outputs": [],
   "source": [
    "# SQL vs. NoSQL Databases\n",
    "# SQL (Structured Query Language) Databases:\n",
    "\n",
    "# Structure:\n",
    "\n",
    "# SQL databases are relational databases, which means they store data in tables with rows and columns.\n",
    "# Each table represents an entity, and relationships between tables are defined using foreign keys.\n",
    "# Schema:\n",
    "\n",
    "# SQL databases use a fixed schema, which means the structure of the data (tables, columns, data types, etc.) must be defined in advance.\n",
    "# Changes to the schema are typically more complex and require careful planning.\n",
    "# Query Language:\n",
    "\n",
    "# SQL databases use SQL (Structured Query Language) for defining and manipulating data.\n",
    "# SQL provides powerful and standardized commands for querying and managing data.\n",
    "# Examples:\n",
    "\n",
    "# MySQL, PostgreSQL, Oracle, Microsoft SQL Server.\n",
    "# Use Cases:\n",
    "\n",
    "# Suitable for applications requiring complex queries and transactions, such as e-commerce systems, financial applications, and data analysis.\n",
    "# NoSQL (Not Only SQL) Databases:\n",
    "\n",
    "# Structure:\n",
    "\n",
    "# NoSQL databases can be document-based, key-value pairs, wide-column stores, or graph databases.\n",
    "# They are designed to handle unstructured or semi-structured data, and they do not require a fixed schema.\n",
    "# Schema:\n",
    "\n",
    "# NoSQL databases offer more flexibility, allowing the structure of the data to evolve over time.\n",
    "# They can easily accommodate changes to the data model without significant downtime or restructuring.\n",
    "# Query Language:\n",
    "\n",
    "# NoSQL databases may use various query languages specific to the type of database, such as MongoDB's query language for document databases.\n",
    "# Some NoSQL databases also support SQL-like query languages or APIs.\n",
    "# Examples:\n",
    "\n",
    "# MongoDB (document-based), Redis (key-value store), Cassandra (wide-column store), Neo4j (graph database).\n",
    "# Use Cases:\n",
    "\n",
    "# Ideal for applications with large volumes of unstructured or semi-structured data, such as social media platforms, real-time analytics, content management systems, and IoT applications."
   ]
  },
  {
   "cell_type": "code",
   "execution_count": 4,
   "id": "14697118-dd33-4b87-a0c8-6040de305805",
   "metadata": {},
   "outputs": [],
   "source": [
    "# Q2. What is DDL? Explain why CREATE, DROP, ALTER, and TRUNCATE are used with an example."
   ]
  },
  {
   "cell_type": "code",
   "execution_count": 5,
   "id": "cb852963-d8c4-4be0-a133-da90fb870237",
   "metadata": {},
   "outputs": [],
   "source": [
    "# DDL (Data Definition Language) is a subset of SQL used to define and manage database structures, such as tables, indexes, and schemas. DDL statements are used to create, modify, and delete database objects. These operations typically include defining the structure of the data, such as the names and types of columns in a table."
   ]
  },
  {
   "cell_type": "code",
   "execution_count": null,
   "id": "eece72ac-a3eb-4886-9443-5c269fc3d435",
   "metadata": {},
   "outputs": [],
   "source": [
    "# 1)CREATE:\n",
    "# The CREATE command is used to create a new database object, such as a table, view, or index.\n",
    "# Example: Creating a new table named employees\n",
    "CREATE TABLE employees (\n",
    "    id INT PRIMARY KEY,\n",
    "    first_name VARCHAR(50),\n",
    "    last_name VARCHAR(50),\n",
    "    hire_date DATE,\n",
    "    salary DECIMAL(10, 2)\n",
    ");\n"
   ]
  },
  {
   "cell_type": "code",
   "execution_count": null,
   "id": "02858a13-0b29-4eb0-8891-92899812f4df",
   "metadata": {},
   "outputs": [],
   "source": [
    "# 2)DROP:\n",
    "\n",
    "# The DROP command is used to delete an existing database object, such as a table or a database.\n",
    "# Example: Dropping the employees table\n",
    "DROP TABLE employees;\n"
   ]
  },
  {
   "cell_type": "code",
   "execution_count": null,
   "id": "2ee1b7d3-8141-4590-9946-8512d4cef35e",
   "metadata": {},
   "outputs": [],
   "source": [
    "# 3)ALTER:\n",
    "\n",
    "# The ALTER command is used to modify the structure of an existing database object, such as adding, deleting, or modifying columns in a table.\n",
    "# Example: Adding a new column email to the employees table.\n",
    "ALTER TABLE employees\n",
    "ADD email VARCHAR(100);\n"
   ]
  },
  {
   "cell_type": "code",
   "execution_count": null,
   "id": "eaf7a715-c771-433c-9769-d811595036ad",
   "metadata": {},
   "outputs": [],
   "source": [
    "# 4)TRUNCATE:\n",
    "# The TRUNCATE command is used to delete all rows from a table, effectively resetting the table to its empty state. Unlike DELETE, TRUNCATE is faster and does not generate individual row delete operations.\n",
    "# Example: Truncating the employees table.\n",
    "TRUNCATE TABLE employees;\n"
   ]
  },
  {
   "cell_type": "code",
   "execution_count": 10,
   "id": "81bd293f-dba4-4a8d-8407-0c4dfe530e96",
   "metadata": {},
   "outputs": [],
   "source": [
    "# Q3. What is DML? Explain INSERT, UPDATE, and DELETE with an example."
   ]
  },
  {
   "cell_type": "code",
   "execution_count": null,
   "id": "b4e35f32-1676-4016-b6ed-ae9afdd7d24b",
   "metadata": {},
   "outputs": [],
   "source": [
    "# 1)INSERT:\n",
    "\n",
    "# The INSERT command is used to add new rows of data to a table.\n",
    "# Example: Inserting a new row into the employees table.\n",
    "\n",
    "INSERT INTO employees (id, first_name, last_name, hire_date, salary)\n",
    "VALUES (1, 'John', 'Doe', '2022-01-01', 50000.00);\n",
    "\n",
    "# 2)UPDATE:\n",
    "\n",
    "# The UPDATE command is used to modify existing rows of data in a table.\n",
    "# Example: Updating the salary of an employee with id 1.\n",
    "\n",
    "UPDATE employees\n",
    "SET salary = 55000.00\n",
    "WHERE id = 1;\n",
    "\n",
    "# 3)DELETE:\n",
    "\n",
    "# The DELETE command is used to remove rows of data from a table.\n",
    "# Example: Deleting an employee with id 1.\n",
    "\n",
    "DELETE FROM employees\n",
    "WHERE id = 1;"
   ]
  },
  {
   "cell_type": "code",
   "execution_count": 12,
   "id": "425eb41d-f277-40b4-b3e5-7165606b74dd",
   "metadata": {},
   "outputs": [],
   "source": [
    "# Q4. What is DQL? Explain SELECT with an example."
   ]
  },
  {
   "cell_type": "code",
   "execution_count": 13,
   "id": "411b96f7-bf35-447a-93c3-e221a333ef2d",
   "metadata": {},
   "outputs": [],
   "source": [
    "# DQL (Data Query Language) is a subset of SQL used to query and retrieve data from a database. The primary command in DQL is SELECT, which is used to fetch data from one or more tables based on specified criteria.\n",
    "# Example:\n",
    "# SELECT first_name, last_name, salary\n",
    "# FROM employees\n",
    "# WHERE salary > 55000;\n"
   ]
  },
  {
   "cell_type": "code",
   "execution_count": 14,
   "id": "c146002c-30ed-4c05-8fc5-7c59ea9cf168",
   "metadata": {},
   "outputs": [],
   "source": [
    "# Q5. Explain Primary Key and Foreign Key."
   ]
  },
  {
   "cell_type": "code",
   "execution_count": 15,
   "id": "4f90d75d-bcb2-48c4-a79d-30e316430f91",
   "metadata": {},
   "outputs": [],
   "source": [
    "# Primary Key\n",
    "# A Primary Key is a field (or a combination of fields) in a database table that uniquely identifies each record in that table.\n",
    "\n",
    "# Foreign Key\n",
    "# A Foreign Key is a field (or a combination of fields) in one table that uniquely identifies a row of another table. The table with the foreign key is called the child table, and the table with the referenced primary key is called the parent table. "
   ]
  },
  {
   "cell_type": "code",
   "execution_count": 16,
   "id": "b1a48384-0a36-4434-b9f1-4588c15d88bd",
   "metadata": {},
   "outputs": [],
   "source": [
    "# Q6. Write a python code to connect MySQL to python. Explain the cursor() and execute() method."
   ]
  },
  {
   "cell_type": "code",
   "execution_count": null,
   "id": "b5579071-8d4d-4db1-8a3a-d1f5d54c6a75",
   "metadata": {},
   "outputs": [],
   "source": [
    "import mysql.connector\n",
    "\n",
    "# Establish the connection\n",
    "connection = mysql.connector.connect(\n",
    "    host=\"localhost\",  # or your database server\n",
    "    user=\"yourusername\",\n",
    "    password=\"yourpassword\",\n",
    "    database=\"yourdatabase\"\n",
    ")\n",
    "\n",
    "# Create a cursor object\n",
    "cursor = connection.cursor()\n",
    "\n",
    "# Execute a query\n",
    "cursor.execute(\"SELECT * FROM employees\")\n",
    "\n",
    "# Fetch the results\n",
    "results = cursor.fetchall()\n",
    "\n",
    "# Iterate over the results and print them\n",
    "for row in results:\n",
    "    print(row)\n",
    "\n",
    "# Close the cursor and the connection\n",
    "cursor.close()\n",
    "connection.close()\n"
   ]
  },
  {
   "cell_type": "code",
   "execution_count": 18,
   "id": "a6813ffc-a60a-460e-98ea-93d69728158c",
   "metadata": {},
   "outputs": [],
   "source": [
    "# Explanation of cursor() and execute() Methods\n",
    "# 1)cursor() Method:\n",
    "\n",
    "# The cursor() method creates a cursor object that allows you to interact with the database.\n",
    "# The cursor is used to execute SQL queries, fetch data, and manage the context of a fetch operation.\n",
    "\n",
    "# 2)execute() Method:\n",
    "\n",
    "# The execute() method is used to execute an SQL query.\n",
    "# You can use this method to execute any SQL command, such as SELECT, INSERT, UPDATE, DELETE, etc.\n",
    "#  The method takes a string containing the SQL query as its argument."
   ]
  },
  {
   "cell_type": "code",
   "execution_count": 20,
   "id": "5a6b891f-c2f9-465f-8157-7d7434afeed3",
   "metadata": {},
   "outputs": [],
   "source": [
    "# Q7. Give the order of execution of SQL clauses in an SQL query."
   ]
  },
  {
   "cell_type": "code",
   "execution_count": 19,
   "id": "3e5c2696-a9ba-4ab8-adb3-3d2944078088",
   "metadata": {},
   "outputs": [],
   "source": [
    "# The order of execution of SQL clauses in an SQL query follows a specific sequence, which determines how the query processes and retrieves data. This order is different from the written order of the clauses in the SQL statement. The execution order is as follows:\n",
    "\n",
    "# FROM: Specifies the table(s) from which to retrieve the data. Joins between tables are processed here.\n",
    "# WHERE: Filters the rows based on specified conditions. Only rows that meet the criteria are passed to the next step.\n",
    "# GROUP BY: Groups the rows that have the same values in specified columns into summary rows.\n",
    "# HAVING: Filters groups based on specified conditions. Only groups that meet the criteria are passed to the next step.\n",
    "# SELECT: Specifies the columns to retrieve. Expressions and functions are evaluated here.\n",
    "# DISTINCT: Removes duplicate rows from the result set.\n",
    "# ORDER BY: Sorts the result set based on one or more columns.\n",
    "# LIMIT / OFFSET: Specifies the number of rows to return and the starting point in the result set."
   ]
  },
  {
   "cell_type": "code",
   "execution_count": null,
   "id": "6f4f30c9-1803-451e-9115-5d62d76e5b32",
   "metadata": {},
   "outputs": [],
   "source": []
  }
 ],
 "metadata": {
  "kernelspec": {
   "display_name": "Python 3 (ipykernel)",
   "language": "python",
   "name": "python3"
  },
  "language_info": {
   "codemirror_mode": {
    "name": "ipython",
    "version": 3
   },
   "file_extension": ".py",
   "mimetype": "text/x-python",
   "name": "python",
   "nbconvert_exporter": "python",
   "pygments_lexer": "ipython3",
   "version": "3.10.8"
  }
 },
 "nbformat": 4,
 "nbformat_minor": 5
}
