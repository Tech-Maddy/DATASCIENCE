{
 "cells": [
  {
   "cell_type": "code",
   "execution_count": null,
   "id": "c3823110-395f-4c60-9112-429879694bca",
   "metadata": {},
   "outputs": [],
   "source": []
  }
 ],
 "metadata": {
  "kernelspec": {
   "display_name": "",
   "name": ""
  },
  "language_info": {
   "name": ""
  }
 },
 "nbformat": 4,
 "nbformat_minor": 5
}
