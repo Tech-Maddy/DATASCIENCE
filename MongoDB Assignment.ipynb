{
 "cells": [
  {
   "cell_type": "code",
   "execution_count": 1,
   "id": "783b94a6-e558-48ca-88f8-c23a3440b607",
   "metadata": {},
   "outputs": [],
   "source": [
    "# Q1. What is MongoDB? Explain non-relational databases in short. In which scenarios it is preferred to use MongoDB over SQL databases?"
   ]
  },
  {
   "cell_type": "code",
   "execution_count": 2,
   "id": "1aad4ab2-2e18-4677-8b50-17820c871812",
   "metadata": {},
   "outputs": [],
   "source": [
    "# MongoDB is a popular NoSQL database that uses a document-oriented data model. It stores data in flexible, JSON-like documents, allowing for dynamic schemas. MongoDB is designed for high performance, scalability, and flexibility, making it suitable for a wide range of applications.\n",
    "\n",
    "# Non-relational databases (NoSQL) are databases that do not use the traditional table-based relational database structure. They are designed to handle large volumes of unstructured or semi-structured data and to provide high scalability and flexibility. NoSQL databases can be categorized into different types, including document stores, key-value stores, column family stores, and graph databases.\n",
    "\n",
    "# Scenarios to Prefer MongoDB Over SQL Databases:\n",
    "\n",
    "# Dynamic Schema Requirements: When the data schema is expected to evolve over time.\n",
    "# Large Scale and High Throughput: For applications with massive data ingestion and real-time processing needs.\n",
    "# Complex, Hierarchical Data: When dealing with nested objects and arrays.\n",
    "# Horizontal Scalability: Applications that require distributing data across multiple servers.\n",
    "# Agile Development and Rapid Iteration: When frequent changes and rapid iterations are necessary.\n",
    "# Real-Time Analytics and Big Data Applications: For real-time data analytics, logging, and monitoring systems.\n",
    "# Content Management Systems (CMS): Where content types and structures can vary significantly."
   ]
  },
  {
   "cell_type": "code",
   "execution_count": 3,
   "id": "09c8ab66-9fc8-4055-8f95-e6b2acd0b8d0",
   "metadata": {},
   "outputs": [],
   "source": [
    "# Q2. State and Explain the Features of MongoDB"
   ]
  },
  {
   "cell_type": "code",
   "execution_count": 4,
   "id": "f75bbe45-fb55-45a7-a451-fc48ed43963d",
   "metadata": {},
   "outputs": [],
   "source": [
    "# Document-Oriented Storage: Data is stored in BSON (Binary JSON) format, allowing for complex nested structures.\n",
    "# Schema Flexibility: Documents in a collection do not need to have the same structure.\n",
    "# High Performance: Designed for high throughput and low latency operations.\n",
    "# Scalability: Supports horizontal scaling through sharding.\n",
    "# Indexing: Supports various indexing techniques to optimize query performance.\n",
    "# Aggregation Framework: Provides powerful data aggregation capabilities.\n",
    "# Replication: Supports replica sets for high availability and data redundancy.\n",
    "# GridFS: Used for storing and retrieving large files like images, videos, and audio.\n",
    "# Geospatial Indexing: Supports geospatial queries for location-based data."
   ]
  },
  {
   "cell_type": "code",
   "execution_count": 5,
   "id": "c1fe15c1-1c50-48b4-90f4-cd0d9f4c7938",
   "metadata": {},
   "outputs": [],
   "source": [
    "# Q3. Write a Code to Connect MongoDB to Python. Also, Create a Database and a Collection in MongoDB"
   ]
  },
  {
   "cell_type": "code",
   "execution_count": null,
   "id": "17416d1d-0b18-4aaa-9295-0a35876b353e",
   "metadata": {},
   "outputs": [],
   "source": [
    "from pymongo import MongoClient\n",
    "\n",
    "# Connect to MongoDB\n",
    "client = MongoClient('mongodb://localhost:27017/')\n",
    "\n",
    "# Create a database\n",
    "db = client['mydatabase']\n",
    "\n",
    "# Create a collection\n",
    "collection = db['mycollection']\n",
    "\n",
    "print(\"Database and collection created successfully\")\n"
   ]
  },
  {
   "cell_type": "code",
   "execution_count": 7,
   "id": "cec2e28b-0cb1-4a2d-b986-4918195dcaf6",
   "metadata": {},
   "outputs": [],
   "source": [
    "# Q4. Insert One Record, Insert Many Records, and Use find() and find_one() Methods"
   ]
  },
  {
   "cell_type": "code",
   "execution_count": null,
   "id": "9c83e791-3321-4d30-a90a-7aa27900080f",
   "metadata": {},
   "outputs": [],
   "source": [
    "from pymongo import MongoClient\n",
    "\n",
    "# Connect to MongoDB\n",
    "client = MongoClient('mongodb://localhost:27017/')\n",
    "db = client['mydatabase']\n",
    "collection = db['mycollection']\n",
    "\n",
    "# Insert one record\n",
    "record = {\"name\": \"John\", \"age\": 30, \"city\": \"New York\"}\n",
    "collection.insert_one(record)\n",
    "\n",
    "# Insert many records\n",
    "records = [\n",
    "    {\"name\": \"Jane\", \"age\": 25, \"city\": \"San Francisco\"},\n",
    "    {\"name\": \"Alice\", \"age\": 28, \"city\": \"Los Angeles\"},\n",
    "    {\"name\": \"Bob\", \"age\": 32, \"city\": \"Chicago\"}\n",
    "]\n",
    "collection.insert_many(records)\n",
    "\n",
    "# Find one record\n",
    "print(\"Find one record:\")\n",
    "print(collection.find_one({\"name\": \"John\"}))\n",
    "\n",
    "# Find all records\n",
    "print(\"Find all records:\")\n",
    "for doc in collection.find():\n",
    "    print(doc)\n"
   ]
  },
  {
   "cell_type": "code",
   "execution_count": 8,
   "id": "26144411-2cb9-4deb-81a7-ef39dc13ca8a",
   "metadata": {},
   "outputs": [],
   "source": [
    "# Q5. Using the find() Method to Query the MongoDB Database"
   ]
  },
  {
   "cell_type": "code",
   "execution_count": null,
   "id": "44dfd46a-4017-4460-9e96-9c2cac9f308b",
   "metadata": {},
   "outputs": [],
   "source": [
    "from pymongo import MongoClient\n",
    "\n",
    "# Connect to MongoDB\n",
    "client = MongoClient('mongodb://localhost:27017/')\n",
    "db = client['mydatabase']\n",
    "collection = db['mycollection']\n",
    "\n",
    "# Query to find all documents where age is greater than 28\n",
    "query = {\"age\": {\"$gt\": 28}}\n",
    "results = collection.find(query)\n",
    "\n",
    "# Print the results\n",
    "for doc in results:\n",
    "    print(doc)\n"
   ]
  },
  {
   "cell_type": "code",
   "execution_count": 12,
   "id": "323cf8dc-81c3-422a-9a85-af4ddb25da95",
   "metadata": {},
   "outputs": [],
   "source": [
    "# Q6. Explain the sort() Method with an Example"
   ]
  },
  {
   "cell_type": "code",
   "execution_count": 13,
   "id": "d85da673-a116-4a7f-8472-bedf362c796c",
   "metadata": {},
   "outputs": [],
   "source": [
    "# The sort() method is used to sort the documents in a query result. You can sort by one or more fields, in ascending or descending order."
   ]
  },
  {
   "cell_type": "code",
   "execution_count": null,
   "id": "31ff19ec-0545-46c9-98b6-532f247572a7",
   "metadata": {},
   "outputs": [],
   "source": [
    "from pymongo import MongoClient\n",
    "\n",
    "# Connect to MongoDB\n",
    "client = MongoClient('mongodb://localhost:27017/')\n",
    "db = client['mydatabase']\n",
    "collection = db['mycollection']\n",
    "\n",
    "# Query to find all documents and sort by age in ascending order\n",
    "results = collection.find().sort(\"age\", 1)  # 1 for ascending, -1 for descending\n",
    "\n",
    "# Print the sorted results\n",
    "for doc in results:\n",
    "    print(doc)\n"
   ]
  },
  {
   "cell_type": "code",
   "execution_count": 15,
   "id": "85b69a36-17bb-457b-b881-78a55b0f3d29",
   "metadata": {},
   "outputs": [],
   "source": [
    "# Q7. Explain delete_one(), delete_many(), and drop()"
   ]
  },
  {
   "cell_type": "code",
   "execution_count": 16,
   "id": "c803bdc4-4933-439b-9d94-152f64a20db0",
   "metadata": {},
   "outputs": [],
   "source": [
    "# delete_one(): Deletes the first document that matches the filter criteria."
   ]
  },
  {
   "cell_type": "code",
   "execution_count": 17,
   "id": "9be79415-0eb1-4f09-bb30-9ba808b7b678",
   "metadata": {},
   "outputs": [],
   "source": [
    "# delete_many(): Deletes all documents that match the filter criteria."
   ]
  },
  {
   "cell_type": "code",
   "execution_count": 18,
   "id": "d730c1db-e193-4657-a06b-6b5e62601f02",
   "metadata": {},
   "outputs": [],
   "source": [
    "# drop(): Deletes the entire collection."
   ]
  },
  {
   "cell_type": "code",
   "execution_count": null,
   "id": "516e4664-fa20-483e-b8d7-5d0c3e6c23ea",
   "metadata": {},
   "outputs": [],
   "source": []
  }
 ],
 "metadata": {
  "kernelspec": {
   "display_name": "Python 3 (ipykernel)",
   "language": "python",
   "name": "python3"
  },
  "language_info": {
   "codemirror_mode": {
    "name": "ipython",
    "version": 3
   },
   "file_extension": ".py",
   "mimetype": "text/x-python",
   "name": "python",
   "nbconvert_exporter": "python",
   "pygments_lexer": "ipython3",
   "version": "3.10.8"
  }
 },
 "nbformat": 4,
 "nbformat_minor": 5
}
