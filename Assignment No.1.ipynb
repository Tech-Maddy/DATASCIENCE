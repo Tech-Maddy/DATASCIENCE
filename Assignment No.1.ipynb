{
 "cells": [
  {
   "cell_type": "code",
   "execution_count": null,
   "id": "651cd28b-4ca2-4f8d-9df4-194e5ec97f94",
   "metadata": {},
   "outputs": [],
   "source": [
    "# Q1. Create one variable containing following type of data:\n",
    "# (i) string\n",
    "# (ii) list\n",
    "# (iii) float\n",
    "# (iv) tuple\n",
    "\n",
    "#Ans:\n",
    "\n",
    "#String variable Declaration\n",
    "a =\"Mohsin Pathan\"\n",
    "\n",
    "#List variable Declaration\n",
    "fruits =[\"apple\",\"banana\",\"orange\", \"Mango\"]\n",
    "\n",
    "#Float variable Declaration\n",
    "F=3.14\n",
    "\n",
    "#Tuple variable Declaration\n",
    "T=(2,3,5,7)\n"
   ]
  },
  {
   "cell_type": "code",
   "execution_count": null,
   "id": "f5dadb36-fa2e-4f45-9eac-4493adca521d",
   "metadata": {},
   "outputs": [],
   "source": [
    "# Q2. Given are some following variables containing data:\n",
    "# (i) var1 = ‘ ‘\n",
    "# (ii) var2 = ‘[ DS , ML , Python]’\n",
    "# (iii) var3 = [ ‘DS’ , ’ML’ , ‘Python’ ]\n",
    "# (iv) var4 = 1.\n",
    "# What will be the data type of the above given variable.\n",
    "\n",
    "#Ans\n",
    "#i)string\n",
    "#ii)String\n",
    "#iii)List\n",
    "#iv)Int"
   ]
  },
  {
   "cell_type": "code",
   "execution_count": null,
   "id": "9df53fb1-96b4-419b-944e-8d562196b97e",
   "metadata": {},
   "outputs": [],
   "source": [
    "# Q3. Explain the use of the following operators using an example:\n",
    "# (i) /\n",
    "# (ii) %\n",
    "# (iii) //\n",
    "# (iv) **\n",
    "\n",
    "(i) Division Operator (/)\n",
    "The division operator / is used to divide one number by another and returns a floating-point result.\n",
    "\n",
    "# Example:\n",
    "result = 10 / 3\n",
    "print(result)  # Output: 3.3333333333333335\n",
    "In this example, 10 divided by 3 results in approximately 3.3333333333333335.\n",
    "\n",
    "(ii) Modulus Operator (%)\n",
    "The modulus operator % returns the remainder of the division of one number by another.\n",
    "\n",
    "Example:\n",
    "remainder = 10 % 3\n",
    "print(remainder)  # Output: 1\n",
    "Here, 10 divided by 3 leaves a remainder of 1.\n",
    "\n",
    "(iii) Floor Division Operator (//):\n",
    "The floor division operator // divides one number by another and returns the largest integer less than or equal to the result (i.e., it performs division and then applies the floor function).\n",
    "\n",
    "Example:\n",
    "floor_result = 10 // 3\n",
    "print(floor_result)  # Output: 3\n",
    "In this case, 10 divided by 3 results in 3 when using floor division.\n",
    "\n",
    "(iv) Exponentiation Operator (**):\n",
    "The exponentiation operator ** raises the number to its left to the power of the number to its right.\n",
    "\n",
    "Example:\n",
    "power = 2 ** 3\n",
    "print(power)  # Output: 8\n",
    "\n"
   ]
  },
  {
   "cell_type": "code",
   "execution_count": 6,
   "id": "1314034a-f356-482f-8bc3-39a2acbe244d",
   "metadata": {},
   "outputs": [
    {
     "name": "stdout",
     "output_type": "stream",
     "text": [
      "42\n",
      "hello\n",
      "3.14\n",
      "True\n",
      "None\n",
      "[1, 2, 3]\n",
      "{'a': 1, 'b': 2}\n",
      "(5, 6)\n",
      "{8, 7}\n",
      "b'byte'\n"
     ]
    }
   ],
   "source": [
    "#Quesion no.4\n",
    "\n",
    "#Ans:\n",
    "# List with multiple data types\n",
    "my_list = [42, 'hello', 3.14, True, None, [1, 2, 3], {'a': 1, 'b': 2}, (5, 6), {7, 8}, b'byte']\n",
    "\n",
    "# Using for loop to print each element and its data type\n",
    "for element in my_list:\n",
    "    print(element)\n"
   ]
  },
  {
   "cell_type": "code",
   "execution_count": 7,
   "id": "3db52ce0-5399-44e6-9084-5258bcc7794f",
   "metadata": {},
   "outputs": [
    {
     "name": "stdout",
     "output_type": "stream",
     "text": [
      "The number is divisible by 2 a total of 6 times.\n"
     ]
    }
   ],
   "source": [
    "# Q5. Using a while loop, verify if the number A is purely divisible by number B and if so then how many\n",
    "# times it can be divisible.\n",
    "\n",
    "#Ans:\n",
    "# Initialize A and B\n",
    "A = 64\n",
    "B = 2\n",
    "\n",
    "# Initialize count to zero\n",
    "count = 0\n",
    "\n",
    "# Verify if A is purely divisible by B\n",
    "while A % B == 0:\n",
    "    A = A / B\n",
    "    count += 1\n",
    "\n",
    "\n",
    "# Output the result\n",
    "if count > 0:\n",
    "    print(f\"The number is divisible by {B} a total of {count} times.\")\n",
    "else:\n",
    "    print(f\"The number is not divisible by {B}.\")\n",
    "\n",
    "\n"
   ]
  },
  {
   "cell_type": "code",
   "execution_count": 8,
   "id": "6578bc36-760e-45ae-82d3-de5e8d621125",
   "metadata": {},
   "outputs": [
    {
     "name": "stdout",
     "output_type": "stream",
     "text": [
      "4 is not divisible by 3\n",
      "9 is divisible by 3\n",
      "15 is divisible by 3\n",
      "22 is not divisible by 3\n",
      "33 is divisible by 3\n",
      "40 is not divisible by 3\n",
      "50 is not divisible by 3\n",
      "60 is divisible by 3\n",
      "72 is divisible by 3\n",
      "85 is not divisible by 3\n",
      "91 is not divisible by 3\n",
      "102 is divisible by 3\n",
      "113 is not divisible by 3\n",
      "126 is divisible by 3\n",
      "135 is divisible by 3\n",
      "147 is divisible by 3\n",
      "150 is divisible by 3\n",
      "162 is divisible by 3\n",
      "173 is not divisible by 3\n",
      "184 is not divisible by 3\n",
      "195 is divisible by 3\n",
      "207 is divisible by 3\n",
      "218 is not divisible by 3\n",
      "229 is not divisible by 3\n",
      "240 is divisible by 3\n"
     ]
    }
   ],
   "source": [
    "# Q6. Create a list containing 25 int type data. Using for loop and if-else condition print if the element is\n",
    "# divisible by 3 or not.\n",
    "\n",
    "#Ans:\n",
    "\n",
    "# List containing 25 integers\n",
    "numbers = [4, 9, 15, 22, 33, 40, 50, 60, 72, 85, 91, 102, 113, 126, 135, 147, 150, 162, 173, 184, 195, 207, 218, 229, 240]\n",
    "\n",
    "# Using for loop and if-else condition to check divisibility by 3\n",
    "for number in numbers:\n",
    "    if number % 3 == 0:\n",
    "        print(f\"{number} is divisible by 3\")\n",
    "    else:\n",
    "        print(f\"{number} is not divisible by 3\")\n",
    "\n"
   ]
  },
  {
   "cell_type": "code",
   "execution_count": 9,
   "id": "bb3dc4d8-d487-469b-9394-66e82d3d570e",
   "metadata": {},
   "outputs": [
    {
     "name": "stdout",
     "output_type": "stream",
     "text": [
      "[1, 2, 10, 4, 5, 6]\n",
      "(1, 2, 3, 4, 5)\n",
      "(1, 2, 10, 4, 5)\n"
     ]
    }
   ],
   "source": [
    "# Q7. What do you understand about mutable and immutable data types? Give examples for both showing\n",
    "# this property.\n",
    "\n",
    "#Ans:\n",
    "# Mutable Data Types\n",
    "# Mutable data types are those whose values can be modified in place after they are created. Examples include lists, dictionaries, and sets.\n",
    "\n",
    "# Example of Mutable Data Type (List):\n",
    "\n",
    "\n",
    " # Create a list (mutable)\n",
    "my_list = [1, 2, 3, 4, 5]\n",
    "\n",
    "# Modify an element in the list\n",
    "my_list[2] = 10\n",
    "\n",
    "# Add an element to the list\n",
    "my_list.append(6)\n",
    "\n",
    "print(my_list)  # Output: [1, 2, 10, 4, 5, 6]\n",
    "\n",
    "\n",
    "\n",
    "# Immutable Data Types\n",
    "# Immutable data types are those whose values cannot be changed once they are created. Examples include integers, floats, strings, and tuples.\n",
    "\n",
    "# Example of Immutable Data Type (String):\n",
    "\n",
    "\n",
    "# Create a tuple (immutable)\n",
    "my_tuple = (1, 2, 3, 4, 5)\n",
    "\n",
    "# Attempt to modify the tuple (will result in an error)\n",
    "# my_tuple[2] = 10  # This line would raise a TypeError if uncommented\n",
    "\n",
    "# You can create a new tuple that includes changes\n",
    "new_tuple = my_tuple[:2] + (10,) + my_tuple[3:]\n",
    "\n",
    "print(my_tuple)   # Output: (1, 2, 3, 4, 5)\n",
    "print(new_tuple)  # Output: (1, 2, 10, 4, 5)\n",
    "\n",
    "\n",
    "\n"
   ]
  },
  {
   "cell_type": "code",
   "execution_count": null,
   "id": "1d83d0d6-a326-4b06-be61-2fe73d4834d6",
   "metadata": {},
   "outputs": [],
   "source": []
  }
 ],
 "metadata": {
  "kernelspec": {
   "display_name": "Python 3 (ipykernel)",
   "language": "python",
   "name": "python3"
  },
  "language_info": {
   "codemirror_mode": {
    "name": "ipython",
    "version": 3
   },
   "file_extension": ".py",
   "mimetype": "text/x-python",
   "name": "python",
   "nbconvert_exporter": "python",
   "pygments_lexer": "ipython3",
   "version": "3.10.8"
  }
 },
 "nbformat": 4,
 "nbformat_minor": 5
}
