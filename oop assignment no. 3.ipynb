{
 "cells": [
  {
   "cell_type": "code",
   "execution_count": 1,
   "id": "e4576dc2-6d89-47c0-a65a-ece3bebc3e94",
   "metadata": {},
   "outputs": [],
   "source": [
    "# Q1. What is Abstraction in OOps? Explain with an example."
   ]
  },
  {
   "cell_type": "code",
   "execution_count": 2,
   "id": "a070410c-9a1f-4551-8f56-08f727ecc078",
   "metadata": {},
   "outputs": [
    {
     "name": "stdout",
     "output_type": "stream",
     "text": [
      "Area of the circle: 78.5\n",
      "Area of the rectangle: 24\n"
     ]
    }
   ],
   "source": [
    "# Abstraction in OOP\n",
    "# Abstraction is one of the fundamental principles of Object-Oriented Programming (OOP). It involves the concept of hiding the complex implementation details and showing only the essential features of the object. This helps in reducing complexity and allows the programmer to focus on interactions at a higher level.\n",
    "\n",
    "# In abstraction, only the necessary details are exposed to the user, and the internal workings are hidden. This is typically achieved using abstract classes and interfaces.\n",
    "\n",
    "from abc import ABC, abstractmethod\n",
    "\n",
    "class Shape(ABC):\n",
    "    @abstractmethod\n",
    "    def area(self):\n",
    "        pass\n",
    "\n",
    "class Circle(Shape):\n",
    "    def __init__(self, radius):\n",
    "        self.radius = radius\n",
    "\n",
    "    def area(self):\n",
    "        return 3.14 * self.radius * self.radius\n",
    "\n",
    "class Rectangle(Shape):\n",
    "    def __init__(self, length, width):\n",
    "        self.length = length\n",
    "        self.width = width\n",
    "\n",
    "    def area(self):\n",
    "        return self.length * self.width\n",
    "\n",
    "# Creating instances of Circle and Rectangle\n",
    "circle = Circle(5)\n",
    "rectangle = Rectangle(4, 6)\n",
    "\n",
    "# Accessing the area method\n",
    "print(f\"Area of the circle: {circle.area()}\")     # Output: Area of the circle: 78.5\n",
    "print(f\"Area of the rectangle: {rectangle.area()}\") # Output: Area of the rectangle: 24\n"
   ]
  },
  {
   "cell_type": "code",
   "execution_count": 3,
   "id": "7613189f-6189-42a7-9177-0436562204e4",
   "metadata": {},
   "outputs": [],
   "source": [
    "# Q2. Differentiate between Abstraction and Encapsulation. Explain with an example."
   ]
  },
  {
   "cell_type": "code",
   "execution_count": 5,
   "id": "38627ea5-9e65-4fe1-9ab0-e52423a992a2",
   "metadata": {},
   "outputs": [
    {
     "name": "stdout",
     "output_type": "stream",
     "text": [
      "Savings Account Balance: 1000\n",
      "Current Account Balance: 2000\n"
     ]
    }
   ],
   "source": [
    "# Abstraction Example:\n",
    "# We will define an abstract class Account and concrete classes SavingsAccount and CurrentAccount.\n",
    "from abc import ABC, abstractmethod\n",
    "\n",
    "class Account(ABC):\n",
    "    @abstractmethod\n",
    "    def get_balance(self):\n",
    "        pass\n",
    "\n",
    "class SavingsAccount(Account):\n",
    "    def __init__(self, balance):\n",
    "        self.balance = balance\n",
    "\n",
    "    def get_balance(self):\n",
    "        return self.balance\n",
    "\n",
    "class CurrentAccount(Account):\n",
    "    def __init__(self, balance):\n",
    "        self.balance = balance\n",
    "\n",
    "    def get_balance(self):\n",
    "        return self.balance\n",
    "\n",
    "# Using abstraction\n",
    "savings = SavingsAccount(1000)\n",
    "current = CurrentAccount(2000)\n",
    "\n",
    "print(f\"Savings Account Balance: {savings.get_balance()}\")  # Output: Savings Account Balance: 1000\n",
    "print(f\"Current Account Balance: {current.get_balance()}\")  # Output: Current Account Balance: 2000\n"
   ]
  },
  {
   "cell_type": "code",
   "execution_count": 6,
   "id": "6d092668-1012-451b-8dc0-3b2d0fff75f8",
   "metadata": {},
   "outputs": [
    {
     "name": "stdout",
     "output_type": "stream",
     "text": [
      "Account Number: 123456789\n",
      "Initial Balance: 1000\n",
      "Balance after deposit: 1500\n",
      "Balance after withdrawal: 1300\n"
     ]
    }
   ],
   "source": [
    "# Encapsulation Example:\n",
    "# We will define a BankAccount class with private attributes and public getter and setter methods.\n",
    "class BankAccount:\n",
    "    def __init__(self, account_number, balance):\n",
    "        self.__account_number = account_number  # Private attribute\n",
    "        self.__balance = balance                # Private attribute\n",
    "\n",
    "    def get_account_number(self):\n",
    "        return self.__account_number\n",
    "\n",
    "    def get_balance(self):\n",
    "        return self.__balance\n",
    "\n",
    "    def deposit(self, amount):\n",
    "        if amount > 0:\n",
    "            self.__balance += amount\n",
    "        else:\n",
    "            print(\"Invalid deposit amount\")\n",
    "\n",
    "    def withdraw(self, amount):\n",
    "        if 0 < amount <= self.__balance:\n",
    "            self.__balance -= amount\n",
    "        else:\n",
    "            print(\"Invalid withdraw amount\")\n",
    "\n",
    "# Using encapsulation\n",
    "account = BankAccount(\"123456789\", 1000)\n",
    "print(f\"Account Number: {account.get_account_number()}\")  # Output: Account Number: 123456789\n",
    "print(f\"Initial Balance: {account.get_balance()}\")        # Output: Initial Balance: 1000\n",
    "\n",
    "account.deposit(500)\n",
    "print(f\"Balance after deposit: {account.get_balance()}\")  # Output: Balance after deposit: 1500\n",
    "\n",
    "account.withdraw(200)\n",
    "print(f\"Balance after withdrawal: {account.get_balance()}\")  # Output: Balance after withdrawal: 1300\n"
   ]
  },
  {
   "cell_type": "code",
   "execution_count": null,
   "id": "274a8f3c-1d5e-44f4-a80f-6e72762a6bfc",
   "metadata": {},
   "outputs": [],
   "source": [
    "# Q3. What is abc module in python? Why is it used?"
   ]
  },
  {
   "cell_type": "code",
   "execution_count": null,
   "id": "531db50b-3d55-417c-bdfc-bbccceb0665d",
   "metadata": {},
   "outputs": [],
   "source": [
    "#ans:\n",
    "    # The abc module in Python stands for \"Abstract Base Classes\". It provides the infrastructure for defining abstract base classes, which are classes that cannot be instantiated on their own and are meant to be subclassed. Abstract base classes can include one or more abstract methods, which are methods declared in an abstract base class that must be implemented by any concrete (non-abstract) subclass."
   ]
  },
  {
   "cell_type": "code",
   "execution_count": null,
   "id": "0a438407-0c25-4c7e-b5a4-e198461c5b73",
   "metadata": {},
   "outputs": [],
   "source": [
    "# Q4. How can we achieve data abstraction?"
   ]
  },
  {
   "cell_type": "code",
   "execution_count": null,
   "id": "9731fbbf-5be9-45c8-af2a-b141fc2a3ede",
   "metadata": {},
   "outputs": [],
   "source": [
    "# Data abstraction in programming refers to the concept of exposing only essential features and hiding the complex details of how those features are implemented. In Python, data abstraction is primarily achieved through the use of classes and interfaces."
   ]
  },
  {
   "cell_type": "code",
   "execution_count": 7,
   "id": "b8cebbaa-20af-4ef7-adc7-b1ebd9d998a0",
   "metadata": {},
   "outputs": [],
   "source": [
    "# Q5. Can we create an instance of an abstract class? Explain your answer."
   ]
  },
  {
   "cell_type": "code",
   "execution_count": 8,
   "id": "4f9abbb6-6de0-453f-b259-861350b86a34",
   "metadata": {},
   "outputs": [],
   "source": [
    "# No, we cannot create an instance of an abstract class in Python. Abstract classes are meant to be blueprints for other classes rather than being instantiated themselves. They are designed to define common interfaces for a set of related classes."
   ]
  },
  {
   "cell_type": "code",
   "execution_count": null,
   "id": "145722bd-fd13-4f24-ade5-18679593703b",
   "metadata": {},
   "outputs": [],
   "source": []
  }
 ],
 "metadata": {
  "kernelspec": {
   "display_name": "Python 3 (ipykernel)",
   "language": "python",
   "name": "python3"
  },
  "language_info": {
   "codemirror_mode": {
    "name": "ipython",
    "version": 3
   },
   "file_extension": ".py",
   "mimetype": "text/x-python",
   "name": "python",
   "nbconvert_exporter": "python",
   "pygments_lexer": "ipython3",
   "version": "3.10.8"
  }
 },
 "nbformat": 4,
 "nbformat_minor": 5
}
