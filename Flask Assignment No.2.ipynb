{
 "cells": [
  {
   "cell_type": "code",
   "execution_count": 1,
   "id": "e8fe5421-19ce-4f83-9d25-405b45f936c8",
   "metadata": {},
   "outputs": [],
   "source": [
    "# Q1. Explain GET and POST methods."
   ]
  },
  {
   "cell_type": "code",
   "execution_count": 2,
   "id": "0667d143-d921-4272-97c3-dd6cde629a55",
   "metadata": {},
   "outputs": [],
   "source": [
    "# GET Method:\n",
    "\n",
    "# The GET method is used to request data from a specified resource.\n",
    "# It appends the request parameters to the URL, making it suitable for fetching data.\n",
    "# It is idempotent, meaning multiple identical requests should have the same effect as a single request.\n",
    "# Data sent via GET is visible in the URL, making it less secure for sensitive information.\n",
    "# Use case: Retrieving data from a server, like fetching user profiles or product listings.\n",
    "# POST Method:\n",
    "\n",
    "# The POST method is used to submit data to be processed to a specified resource.\n",
    "# It sends data in the body of the request, making it more secure for sensitive information.\n",
    "# It is not idempotent, meaning that multiple identical requests may have different effects (e.g., creating multiple entries in a database).\n",
    "# Use case: Creating new records or submitting forms, like user registration or order placement."
   ]
  },
  {
   "cell_type": "code",
   "execution_count": 3,
   "id": "ab048431-8a5c-4c7a-babe-dd614bd8aa77",
   "metadata": {},
   "outputs": [],
   "source": [
    "# Q2. Why is request used in Flask?"
   ]
  },
  {
   "cell_type": "code",
   "execution_count": 4,
   "id": "e50cd8e0-fe61-4a3b-bada-326d71006386",
   "metadata": {},
   "outputs": [],
   "source": [
    "# The request object in Flask is used to handle incoming requests and access request data. It provides properties and methods to get information about the request, such as:\n",
    "\n",
    "# Form data: Accessing data submitted via forms using request.form.\n",
    "# Query parameters: Accessing URL query parameters using request.args.\n",
    "# Request method: Determining the HTTP method used (GET, POST, etc.) with request.method.\n",
    "# JSON data: Accessing JSON data sent in the request body using request.json."
   ]
  },
  {
   "cell_type": "code",
   "execution_count": 5,
   "id": "844f2d5c-815d-4cd8-8faa-0bb61169a2df",
   "metadata": {},
   "outputs": [],
   "source": [
    "# Q3. Why is redirect() used in Flask?"
   ]
  },
  {
   "cell_type": "code",
   "execution_count": 6,
   "id": "beb8ce87-e160-42ca-8cea-d847363ca91c",
   "metadata": {},
   "outputs": [],
   "source": [
    "# The redirect() function in Flask is used to redirect the client to a different URL. It is often used in scenarios such as:\n",
    "\n",
    "# After processing a form submission, redirecting the user to another page to prevent form resubmission.\n",
    "# Navigating users to a specific page after logging in or logging out.\n",
    "# Redirecting to an error page when a resource is not found"
   ]
  },
  {
   "cell_type": "code",
   "execution_count": 7,
   "id": "cb2a4461-1fca-4e21-b3e3-ba6e23b93cdf",
   "metadata": {},
   "outputs": [],
   "source": [
    "# Q4. What are templates in Flask? Why is the render_template() function used?"
   ]
  },
  {
   "cell_type": "code",
   "execution_count": 8,
   "id": "14feee47-244f-472a-a040-1aca16b1228a",
   "metadata": {},
   "outputs": [],
   "source": [
    "# Templates in Flask:\n",
    "# Templates in Flask are HTML files that contain placeholders for dynamic content. They allow developers to separate the presentation layer from the application logic, enabling cleaner and more maintainable code. Flask uses the Jinja2 templating engine, which allows for variable interpolation, control structures (like loops and conditionals), and template inheritance.\n",
    "\n",
    "# Why is the render_template() function used?\n",
    "# The render_template() function is used to render a template and return it as a response to a client's request. It takes the name of the template file and any additional context variables as arguments, allowing you to pass dynamic data to the template. This function enables the creation of dynamic web pages that can change based on user input or database content."
   ]
  },
  {
   "cell_type": "code",
   "execution_count": 9,
   "id": "cee77bc1-9c61-44c9-854a-6acd6a3fee52",
   "metadata": {},
   "outputs": [],
   "source": [
    "# Q5. Create a simple API. Use Postman to test it. Attach the screenshot of the output in the Jupyter Notebook."
   ]
  },
  {
   "cell_type": "code",
   "execution_count": null,
   "id": "aea9317b-1725-4a7a-98ab-22447ab0b65d",
   "metadata": {},
   "outputs": [],
   "source": [
    "from flask import Flask, jsonify, request\n",
    "\n",
    "app = Flask(__name__)\n",
    "\n",
    "# Sample data\n",
    "items = []\n",
    "\n",
    "# Create an item (POST method)\n",
    "@app.route('/items', methods=['POST'])\n",
    "def create_item():\n",
    "    item = request.json  # Get JSON data from request body\n",
    "    items.append(item)\n",
    "    return jsonify(item), 201  # Return the created item and a 201 status code\n",
    "\n",
    "# Get all items (GET method)\n",
    "@app.route('/items', methods=['GET'])\n",
    "def get_items():\n",
    "    return jsonify(items)  # Return the list of items\n",
    "\n",
    "if __name__ == '__main__':\n",
    "    app.run(debug=True)\n"
   ]
  }
 ],
 "metadata": {
  "kernelspec": {
   "display_name": "Python 3 (ipykernel)",
   "language": "python",
   "name": "python3"
  },
  "language_info": {
   "codemirror_mode": {
    "name": "ipython",
    "version": 3
   },
   "file_extension": ".py",
   "mimetype": "text/x-python",
   "name": "python",
   "nbconvert_exporter": "python",
   "pygments_lexer": "ipython3",
   "version": "3.10.8"
  }
 },
 "nbformat": 4,
 "nbformat_minor": 5
}
