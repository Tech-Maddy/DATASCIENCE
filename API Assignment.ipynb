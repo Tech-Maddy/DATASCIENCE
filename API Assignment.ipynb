{
 "cells": [
  {
   "cell_type": "code",
   "execution_count": 1,
   "id": "886e96b1-176d-4dea-b2bf-6625d14f6cf2",
   "metadata": {},
   "outputs": [],
   "source": [
    "# Q1. What is an API? Give an example, where an API is used in real life."
   ]
  },
  {
   "cell_type": "code",
   "execution_count": 2,
   "id": "bce95ce5-59e5-4971-a6dc-ba70e93fb228",
   "metadata": {},
   "outputs": [],
   "source": [
    "# API (Application Programming Interface): An API is a set of rules and protocols for building and interacting with software applications. It defines the methods and data formats that applications can use to communicate with each other. APIs enable different software systems to interact and share data and functionalities.\n",
    "\n",
    "# Example:\n",
    "\n",
    "# Google Maps API: This API allows developers to integrate Google Maps functionalities into their applications. For example, ride-sharing apps like Uber use the Google Maps API to show maps, calculate routes, and estimate travel times."
   ]
  },
  {
   "cell_type": "code",
   "execution_count": 3,
   "id": "dc837c80-2f97-4807-ac89-fbed48293c77",
   "metadata": {},
   "outputs": [],
   "source": [
    "# Q2. Advantages and Disadvantages of Using API"
   ]
  },
  {
   "cell_type": "code",
   "execution_count": 4,
   "id": "7071a811-0dee-4b3e-9049-f933cf6c0500",
   "metadata": {},
   "outputs": [],
   "source": [
    "# Advantages:\n",
    "\n",
    "# Interoperability: APIs allow different systems and applications to communicate and work together, regardless of their underlying technologies.\n",
    "# Efficiency: APIs enable developers to reuse existing functionalities instead of building them from scratch, saving time and resources.\n",
    "# Scalability: APIs can be designed to handle large volumes of requests, making them suitable for high-traffic applications.\n",
    "# Automation: APIs facilitate the automation of repetitive tasks and processes by enabling software applications to interact programmatically.\n",
    "# Innovation: APIs foster innovation by allowing third-party developers to build new applications and services on top of existing platforms."
   ]
  },
  {
   "cell_type": "code",
   "execution_count": 5,
   "id": "459ee229-0d4f-496c-b749-e69d89903b58",
   "metadata": {},
   "outputs": [],
   "source": [
    "# Disadvantages:\n",
    "\n",
    "# Security Risks: Exposing APIs can create security vulnerabilities if not properly managed and secured.\n",
    "# Complexity: Designing, developing, and maintaining APIs can be complex and require significant effort.\n",
    "# Dependency: Applications that rely heavily on external APIs can be affected by changes or downtime in those APIs.\n",
    "# Rate Limiting: APIs often have usage limits, which can restrict the number of requests an application can make, affecting its functionality."
   ]
  },
  {
   "cell_type": "code",
   "execution_count": 6,
   "id": "6338c463-82b7-44cb-9d67-3d5cc58d3079",
   "metadata": {},
   "outputs": [],
   "source": [
    "# Q3. What is a Web API? Differentiate between API and Web API."
   ]
  },
  {
   "cell_type": "code",
   "execution_count": 7,
   "id": "2e353172-5fbb-4721-9f01-83f0e132fc6e",
   "metadata": {},
   "outputs": [],
   "source": [
    "# Web API: A Web API is a type of API that is accessible over the web using HTTP/HTTPS protocols. It allows web-based applications to communicate with each other and with servers to exchange data and functionalities.\n",
    "\n",
    "# Difference between API and Web API:\n",
    "\n",
    "# API: A general term that refers to any set of rules and protocols for interacting with software applications.\n",
    "# Web API: A specific type of API that is accessed over the web using HTTP/HTTPS protocols."
   ]
  },
  {
   "cell_type": "code",
   "execution_count": 8,
   "id": "ee6048c0-65e5-4dc5-aa32-071149780b0a",
   "metadata": {},
   "outputs": [],
   "source": [
    "# Q4. Explain REST and SOAP Architecture. Mention Shortcomings of SOAP."
   ]
  },
  {
   "cell_type": "code",
   "execution_count": 1,
   "id": "b68aa28b-6143-457d-b5d2-9ed7d60b6359",
   "metadata": {},
   "outputs": [],
   "source": [
    "# REST (Representational State Transfer):\n",
    "\n",
    "# REST is an architectural style for designing networked applications.\n",
    "# It uses standard HTTP methods (GET, POST, PUT, DELETE) for communication.\n",
    "# RESTful APIs are stateless and rely on URL endpoints.\n",
    "# Data is typically exchanged in JSON or XML format.\n",
    "# SOAP (Simple Object Access Protocol):\n",
    "\n",
    "# SOAP is a protocol for exchanging structured information in web services.\n",
    "# It uses XML as the message format.\n",
    "# SOAP APIs rely on a standardized set of messaging patterns and are typically more complex than REST.\n",
    "# SOAP includes built-in error handling and supports ACID-compliant transactions."
   ]
  },
  {
   "cell_type": "code",
   "execution_count": 2,
   "id": "60a1cc8e-fc38-4945-b3a6-2803a4c75ad0",
   "metadata": {},
   "outputs": [],
   "source": [
    "# Q5. Differentiate between REST and SOAP"
   ]
  },
  {
   "cell_type": "code",
   "execution_count": null,
   "id": "fbcc994e-4f37-4de4-84bd-8d6154e8b2ef",
   "metadata": {},
   "outputs": [],
   "source": [
    "# Feature\tREST\tSOAP\n",
    "# Architecture Style\tRESTful (Representational State Transfer)\tProtocol-based\n",
    "# Communication\tUses standard HTTP methods (GET, POST, etc.)\tUses XML messages over various protocols (HTTP, SMTP, etc.)\n",
    "# Data Format\tTypically JSON, can use XML\tXML\n",
    "# Stateless\tYes\tCan be stateful\n",
    "# Complexity\tSimpler,s easier to implement\tMore complex, requires strict standards\n",
    "# Performance\tGenerally faster due to lighter payloads\tSlower due to larger XML messages\n",
    "# Error Handling\tLimited built-in error handling\tExtensive error handling and fault tolerance\n",
    "# Browser Support\tBetter support for web applications\tLimited browser support\n",
    "# Overhead\tLess overhead\tMore overhead due to XML processing\n",
    "# Use Cases\tWeb services, microservices, public APIs\tEnterprise-level services, ACID transactions"
   ]
  }
 ],
 "metadata": {
  "kernelspec": {
   "display_name": "Python 3 (ipykernel)",
   "language": "python",
   "name": "python3"
  },
  "language_info": {
   "codemirror_mode": {
    "name": "ipython",
    "version": 3
   },
   "file_extension": ".py",
   "mimetype": "text/x-python",
   "name": "python",
   "nbconvert_exporter": "python",
   "pygments_lexer": "ipython3",
   "version": "3.10.8"
  }
 },
 "nbformat": 4,
 "nbformat_minor": 5
}
